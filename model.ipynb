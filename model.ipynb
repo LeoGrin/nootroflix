{
 "cells": [
  {
   "cell_type": "code",
   "execution_count": 1,
   "id": "b3b42352",
   "metadata": {},
   "outputs": [],
   "source": [
    "import pandas as pd\n",
    "import matplotlib.pyplot as plt\n",
    "import numpy as np"
   ]
  },
  {
   "cell_type": "markdown",
   "id": "9bf27634",
   "metadata": {},
   "source": [
    "# Notes"
   ]
  },
  {
   "cell_type": "markdown",
   "id": "203b43c9",
   "metadata": {},
   "source": [
    "ADDERALL USE:\n",
    "Legally = 0\n",
    "Extralegally = 1\n",
    "\n",
    "RESULTS:\n",
    "No problems = 0\n",
    "Tolerance = 1\n",
    "Minor addiction = 2\n",
    "\n",
    "USE PATTERN:\n",
    "Less than once a month = 0\n",
    "Once a month - once a week = 1\n",
    "Once a week -  once a day = 2\n",
    "Daily or even more = 3\n",
    "\n",
    "ADDERALL DOSE\n",
    "10 mg or less = 0\n",
    "11 - 20 mg = 1\n",
    "21 - 40 mg = 2\n",
    "41 - 60 mg = 3\n",
    "61 - 100 mg = 4\n",
    "More than 100 mg = 5\n",
    "\n",
    "PHENIBUT DOSE\n",
    "500 mg or less = 0\n",
    "501 mg - 1 g = 1\n",
    "1g - 2g = 2\n",
    "2g - 5g = 3\n",
    "5g - 10g = 4\n",
    "Greater than 10g = 5\n",
    "\n",
    "NICOTINE USE\n",
    "I use/d nicotine less than once a week\n",
    "I use/d nicotine more than three times a day\n",
    "I use/d nicotine twice or three times a day\n",
    "I use/d nicotine daily\n",
    "2 = Between once a week and once a day\n",
    "\n",
    "MENTAL HEALTH\n",
    "I have no issues with anxiety = 0\n",
    "I have not been diagnosed, but I believe I have a problem with anxiety = 1\n",
    "I have a professionally diagnosed anxiety disorder = 2\n",
    "\n",
    "TYPE OF NICOTINE\n",
    "Normal tobacco cigarettes = 0\n",
    "Gum = 1\n",
    "Lozenges = 2\n",
    "E-cigarettes = 3\n",
    "Snus = 4\n",
    "\n",
    "The question are here https://docs.google.com/forms/d/e/1FAIpQLSfEek78AYqx5j61EzRX5M6Jy_3fX3xAz4f6gTFtPSEEtkwXug/viewform (the nootropics ratings go from 0 (\"worse\") to 10 (\"better\")\n",
    "\n",
    "Important:\n",
    "\n",
    "\"For each substance, please rate your subjective experience on a scale of 0 to 10. 0 means a substance was totally useless, or had so many side effects you couldn't continue taking it. 1 - 4 means for subtle effects, maybe placebo but still useful. 5 - 9 means strong effects, definitely not placebo. 10 means life-changing. Please as far as possible rate each substance on its own merits - but if a substance only works when stacked with another substance and you're not sure what to do, mention that in the comments.\""
   ]
  },
  {
   "cell_type": "code",
   "execution_count": 2,
   "id": "ca8e78a9",
   "metadata": {},
   "outputs": [],
   "source": [
    "%config Completer.use_jedi = False #speedup autocomplete"
   ]
  },
  {
   "cell_type": "markdown",
   "id": "7bb4251e",
   "metadata": {},
   "source": [
    "# Cleaning the data"
   ]
  },
  {
   "cell_type": "code",
   "execution_count": 3,
   "id": "e2b19684",
   "metadata": {},
   "outputs": [],
   "source": [
    "ssc_df = pd.read_csv(\"data/fixed.csv\")"
   ]
  },
  {
   "cell_type": "code",
   "execution_count": 4,
   "id": "99b7391f",
   "metadata": {},
   "outputs": [],
   "source": [
    "#select all columns which are not nootropics ratings\n",
    "person_features_columns = ssc_df.columns[0:6]\n",
    "\n",
    "side_effects_columns = [\"SideEffectsofLSDMicrodosingverysmalldosewithouthallucinogeniceff\",\n",
    "                           \"SideEffectsofAdderall\",\n",
    "                           \"HowwereyouusingAdderall\",\n",
    "                           \"PatternofAdderallUse\",\n",
    "                           \"DoseofAdderallhighestdoseyouusedconsistentlyifyoutookmorethanonc\",\n",
    "                           \"ResultsofAdderalluse\",\n",
    "                           \"SideEffectsofPhenibut\",\n",
    "                           \"PatternofPhenibutUse\",\n",
    "                           \"Doseofphenibuthighestdoseyouusedconsistentlyifyoutookmorethanonc\",\n",
    "                           \"ResultsofPhenibutuse\"]\n",
    "\n",
    "other_features = ssc_df.columns[52:70]"
   ]
  },
  {
   "cell_type": "code",
   "execution_count": 5,
   "id": "28e64197",
   "metadata": {},
   "outputs": [],
   "source": [
    "#from IPython.display import display, HTML\n",
    "#display(HTML(ssc_df.to_html()))"
   ]
  },
  {
   "cell_type": "markdown",
   "id": "4af1e0fa",
   "metadata": {},
   "source": [
    "# Using Surprise"
   ]
  },
  {
   "cell_type": "markdown",
   "id": "f2545952",
   "metadata": {},
   "source": [
    "### Questions:\n",
    "\n",
    "- how to take into account external features (sex, age, anxiety) ? (different variance and mean etc)"
   ]
  },
  {
   "cell_type": "code",
   "execution_count": 6,
   "id": "09072139",
   "metadata": {},
   "outputs": [],
   "source": [
    "df_clean = ssc_df.drop(columns = list(person_features_columns) + list(side_effects_columns) + list(other_features))\n",
    "#transform into a 3 columns (user_id, item_id, rating) matrix for Surprise\n",
    "df_clean = df_clean.rename_axis('userID').reset_index()\n",
    "df_clean = df_clean.melt(id_vars = \"userID\", var_name = \"itemID\", value_name = \"rating\")"
   ]
  },
  {
   "cell_type": "code",
   "execution_count": 7,
   "id": "297972e8",
   "metadata": {},
   "outputs": [],
   "source": [
    "df_clean = ssc_df.drop(columns = list(person_features_columns) + list(side_effects_columns) + list(other_features))\n",
    "#transform into a 3 columns (user_id, item_id, rating) matrix for Surprise\n",
    "df_clean = df_clean.rename_axis('userID').reset_index()\n",
    "df_clean = df_clean.melt(id_vars = \"userID\", var_name = \"itemID\", value_name = \"rating\")\n",
    "#remove rows when there is no rating\n",
    "df_clean = df_clean[df_clean[\"rating\"] != \" \"]\n",
    "df_clean = df_clean.reset_index(drop=True)"
   ]
  },
  {
   "cell_type": "code",
   "execution_count": 8,
   "id": "45eb79f5",
   "metadata": {},
   "outputs": [],
   "source": [
    "#from sklearn.preprocessing import LabelEncoder\n",
    "# change the item names to id for Surprise\n",
    "#LE = LabelEncoder()\n",
    "#df_clean['itemID'] = LE.fit_transform(df_clean['itemID'])\n"
   ]
  },
  {
   "cell_type": "code",
   "execution_count": 9,
   "id": "ce14c5f4",
   "metadata": {},
   "outputs": [],
   "source": [
    "#res = cross_validate(SVD(), data, cv=5, measures = [\"rmse\", \"mae\", \"fcp\"], verbose=True)"
   ]
  },
  {
   "cell_type": "markdown",
   "id": "13f0c76a",
   "metadata": {},
   "source": [
    "# Some data exploration"
   ]
  },
  {
   "cell_type": "code",
   "execution_count": 8,
   "id": "15ad8cbc",
   "metadata": {},
   "outputs": [
    {
     "data": {
      "text/plain": "      userID     itemID rating\n0          2  Modafinil      5\n1          3  Modafinil      9\n2          6  Modafinil      4\n3          7  Modafinil      5\n4          8  Modafinil      3\n...      ...        ...    ...\n6754     822   Nicotine      9\n6755     823   Nicotine      5\n6756     824   Nicotine      7\n6757     825   Nicotine     10\n6758     826   Nicotine      6\n\n[6759 rows x 3 columns]",
      "text/html": "<div>\n<style scoped>\n    .dataframe tbody tr th:only-of-type {\n        vertical-align: middle;\n    }\n\n    .dataframe tbody tr th {\n        vertical-align: top;\n    }\n\n    .dataframe thead th {\n        text-align: right;\n    }\n</style>\n<table border=\"1\" class=\"dataframe\">\n  <thead>\n    <tr style=\"text-align: right;\">\n      <th></th>\n      <th>userID</th>\n      <th>itemID</th>\n      <th>rating</th>\n    </tr>\n  </thead>\n  <tbody>\n    <tr>\n      <th>0</th>\n      <td>2</td>\n      <td>Modafinil</td>\n      <td>5</td>\n    </tr>\n    <tr>\n      <th>1</th>\n      <td>3</td>\n      <td>Modafinil</td>\n      <td>9</td>\n    </tr>\n    <tr>\n      <th>2</th>\n      <td>6</td>\n      <td>Modafinil</td>\n      <td>4</td>\n    </tr>\n    <tr>\n      <th>3</th>\n      <td>7</td>\n      <td>Modafinil</td>\n      <td>5</td>\n    </tr>\n    <tr>\n      <th>4</th>\n      <td>8</td>\n      <td>Modafinil</td>\n      <td>3</td>\n    </tr>\n    <tr>\n      <th>...</th>\n      <td>...</td>\n      <td>...</td>\n      <td>...</td>\n    </tr>\n    <tr>\n      <th>6754</th>\n      <td>822</td>\n      <td>Nicotine</td>\n      <td>9</td>\n    </tr>\n    <tr>\n      <th>6755</th>\n      <td>823</td>\n      <td>Nicotine</td>\n      <td>5</td>\n    </tr>\n    <tr>\n      <th>6756</th>\n      <td>824</td>\n      <td>Nicotine</td>\n      <td>7</td>\n    </tr>\n    <tr>\n      <th>6757</th>\n      <td>825</td>\n      <td>Nicotine</td>\n      <td>10</td>\n    </tr>\n    <tr>\n      <th>6758</th>\n      <td>826</td>\n      <td>Nicotine</td>\n      <td>6</td>\n    </tr>\n  </tbody>\n</table>\n<p>6759 rows × 3 columns</p>\n</div>"
     },
     "execution_count": 8,
     "metadata": {},
     "output_type": "execute_result"
    }
   ],
   "source": [
    "df_clean"
   ]
  },
  {
   "cell_type": "code",
   "execution_count": 9,
   "id": "9c71dda7",
   "metadata": {},
   "outputs": [
    {
     "name": "stdout",
     "output_type": "stream",
     "text": [
      "848 users answered, and gave 6759 ratings\n",
      "with a mean of 7.970518867924528 ratings per user\n"
     ]
    }
   ],
   "source": [
    "print(\"{} users answered, and gave {} ratings\".format(len(ssc_df), len(df_clean)))\n",
    "print(\"with a mean of {} ratings per user\".format(len(df_clean) / len(ssc_df)))"
   ]
  },
  {
   "cell_type": "code",
   "execution_count": 10,
   "id": "caceae52",
   "metadata": {},
   "outputs": [],
   "source": [
    "ratings_per_users = df_clean.groupby(\"userID\").count()[\"rating\"]"
   ]
  },
  {
   "cell_type": "code",
   "execution_count": 11,
   "id": "e754ad72",
   "metadata": {},
   "outputs": [
    {
     "data": {
      "text/plain": "6759"
     },
     "execution_count": 11,
     "metadata": {},
     "output_type": "execute_result"
    }
   ],
   "source": [
    "ratings_per_users.sum()"
   ]
  },
  {
   "cell_type": "code",
   "execution_count": 12,
   "id": "c7b5d201",
   "metadata": {},
   "outputs": [
    {
     "data": {
      "text/plain": "<AxesSubplot:>"
     },
     "execution_count": 12,
     "metadata": {},
     "output_type": "execute_result"
    },
    {
     "data": {
      "text/plain": "<Figure size 432x288 with 1 Axes>",
      "image/png": "[encoded data removed]"
     },
     "metadata": {
      "needs_background": "light"
     },
     "output_type": "display_data"
    }
   ],
   "source": [
    "ratings_per_users.hist(bins=20)"
   ]
  },
  {
   "cell_type": "code",
   "execution_count": 13,
   "id": "0817a9f8",
   "metadata": {},
   "outputs": [
    {
     "name": "stdout",
     "output_type": "stream",
     "text": [
      "32\n"
     ]
    }
   ],
   "source": [
    "print(sum(ratings_per_users == 1))"
   ]
  },
  {
   "cell_type": "markdown",
   "id": "4802758d",
   "metadata": {},
   "source": [
    "# Model selection"
   ]
  },
  {
   "cell_type": "code",
   "execution_count": 18,
   "id": "15cae9aa",
   "metadata": {},
   "outputs": [],
   "source": [
    "from surprise import NormalPredictor, SVD, NMF, SlopeOne, CoClustering, KNNBasic, KNNWithZScore, KNNWithMeans, KNNBaseline, SVDpp, BaselineOnly\n",
    "from surprise import Dataset\n",
    "from surprise import Reader\n",
    "from surprise.model_selection import cross_validate, RandomizedSearchCV"
   ]
  },
  {
   "cell_type": "markdown",
   "id": "ffbf75b3",
   "metadata": {},
   "source": [
    "## Algorithm selection"
   ]
  },
  {
   "cell_type": "code",
   "execution_count": 15,
   "id": "dcada0d5",
   "metadata": {},
   "outputs": [],
   "source": [
    "# A reader is still needed but only the rating_scale param is requiered.\n",
    "reader = Reader(rating_scale=(0, 10))\n",
    "\n",
    "# The columns must correspond to user id, item id and ratings (in that order).\n",
    "data = Dataset.load_from_df(df_clean, reader)\n"
   ]
  },
  {
   "cell_type": "code",
   "execution_count": 20,
   "id": "7169a5f7",
   "metadata": {},
   "outputs": [
    {
     "name": "stdout",
     "output_type": "stream",
     "text": [
      "SlopeOne\n",
      "Evaluating RMSE, MAE, FCP of algorithm SlopeOne on 5 split(s).\n",
      "\n",
      "                  Fold 1  Fold 2  Fold 3  Fold 4  Fold 5  Mean    Std     \n",
      "RMSE (testset)    2.4044  2.4034  2.2830  2.4396  2.3765  2.3814  0.0531  \n",
      "MAE (testset)     1.8858  1.8786  1.8011  1.9119  1.8595  1.8674  0.0372  \n",
      "FCP (testset)     0.5457  0.5980  0.5749  0.5692  0.5707  0.5717  0.0166  \n",
      "Fit time          0.02    0.01    0.01    0.01    0.01    0.01    0.00    \n",
      "Test time         0.01    0.01    0.01    0.01    0.01    0.01    0.00    \n",
      "{'test_rmse': array([2.40442175, 2.4033973 , 2.28301075, 2.4396081 , 2.37653177]), 'test_mae': array([1.88582378, 1.87859359, 1.80107362, 1.91191257, 1.8594522 ]), 'test_fcp': array([0.54570992, 0.59799833, 0.57490005, 0.56923941, 0.57071223]), 'fit_time': (0.018468856811523438, 0.010061264038085938, 0.009348869323730469, 0.009769916534423828, 0.008238077163696289), 'test_time': (0.012682914733886719, 0.012863874435424805, 0.014122962951660156, 0.01248478889465332, 0.010185956954956055)}\n",
      "CoClustering\n",
      "Evaluating RMSE, MAE, FCP of algorithm CoClustering on 5 split(s).\n",
      "\n",
      "                  Fold 1  Fold 2  Fold 3  Fold 4  Fold 5  Mean    Std     \n",
      "RMSE (testset)    2.4336  2.4220  2.4643  2.5213  2.5522  2.4787  0.0504  \n",
      "MAE (testset)     1.9033  1.8907  1.9137  2.0093  2.0071  1.9448  0.0523  \n",
      "FCP (testset)     0.5385  0.5112  0.5435  0.5767  0.5582  0.5456  0.0217  \n",
      "Fit time          0.09    0.09    0.11    0.09    0.09    0.09    0.01    \n",
      "Test time         0.00    0.00    0.00    0.00    0.00    0.00    0.00    \n",
      "SVD\n",
      "Evaluating RMSE, MAE, FCP of algorithm SVD on 5 split(s).\n",
      "\n",
      "                  Fold 1  Fold 2  Fold 3  Fold 4  Fold 5  Mean    Std     \n",
      "RMSE (testset)    2.3812  2.3192  2.3520  2.2784  2.3248  2.3311  0.0344  \n",
      "MAE (testset)     1.9067  1.8448  1.8586  1.7939  1.8404  1.8489  0.0362  \n",
      "FCP (testset)     0.5727  0.5747  0.5209  0.5568  0.5340  0.5518  0.0212  \n",
      "Fit time          0.29    0.25    0.22    0.22    0.23    0.24    0.03    \n",
      "Test time         0.01    0.00    0.01    0.01    0.01    0.01    0.00    \n",
      "SVDpp\n",
      "Evaluating RMSE, MAE, FCP of algorithm SVDpp on 5 split(s).\n",
      "\n",
      "                  Fold 1  Fold 2  Fold 3  Fold 4  Fold 5  Mean    Std     \n",
      "RMSE (testset)    2.3678  2.4223  2.4090  2.3957  2.4544  2.4098  0.0287  \n",
      "MAE (testset)     1.8462  1.8779  1.9089  1.8918  1.8929  1.8835  0.0211  \n",
      "FCP (testset)     0.5737  0.5146  0.5702  0.5308  0.5740  0.5527  0.0250  \n",
      "Fit time          0.79    0.78    0.79    0.79    0.81    0.79    0.01    \n",
      "Test time         0.02    0.02    0.02    0.02    0.02    0.02    0.00    \n",
      "KNN... (user based)\n",
      "with means\n",
      "Computing the msd similarity matrix...\n",
      "Done computing similarity matrix.\n",
      "Computing the msd similarity matrix...\n",
      "Done computing similarity matrix.\n",
      "Computing the msd similarity matrix...\n",
      "Done computing similarity matrix.\n",
      "Computing the msd similarity matrix...\n",
      "Done computing similarity matrix.\n",
      "Computing the msd similarity matrix...\n",
      "Done computing similarity matrix.\n",
      "Evaluating RMSE, MAE, FCP of algorithm KNNWithMeans on 5 split(s).\n",
      "\n",
      "                  Fold 1  Fold 2  Fold 3  Fold 4  Fold 5  Mean    Std     \n",
      "RMSE (testset)    2.3846  2.4713  2.4173  2.3567  2.4910  2.4242  0.0507  \n",
      "MAE (testset)     1.8988  1.9561  1.9029  1.8577  1.9611  1.9153  0.0387  \n",
      "FCP (testset)     0.5650  0.5737  0.5736  0.5576  0.5545  0.5649  0.0079  \n",
      "Fit time          0.03    0.03    0.03    0.03    0.03    0.03    0.00    \n",
      "Test time         0.18    0.18    0.18    0.18    0.17    0.18    0.00    \n",
      "with z-score\n",
      "Computing the msd similarity matrix...\n",
      "Done computing similarity matrix.\n",
      "Computing the msd similarity matrix...\n",
      "Done computing similarity matrix.\n",
      "Computing the msd similarity matrix...\n",
      "Done computing similarity matrix.\n",
      "Computing the msd similarity matrix...\n",
      "Done computing similarity matrix.\n",
      "Computing the msd similarity matrix...\n",
      "Done computing similarity matrix.\n",
      "Evaluating RMSE, MAE, FCP of algorithm KNNWithZScore on 5 split(s).\n",
      "\n",
      "                  Fold 1  Fold 2  Fold 3  Fold 4  Fold 5  Mean    Std     \n",
      "RMSE (testset)    2.5111  2.3967  2.4033  2.4255  2.5127  2.4499  0.0516  \n",
      "MAE (testset)     1.9531  1.9152  1.8901  1.8953  1.9548  1.9217  0.0276  \n",
      "FCP (testset)     0.5238  0.5111  0.5581  0.5542  0.5743  0.5443  0.0233  \n",
      "Fit time          0.05    0.06    0.05    0.05    0.05    0.05    0.00    \n",
      "Test time         0.20    0.21    0.20    0.19    0.19    0.20    0.01    \n",
      "with baselines\n",
      "Estimating biases using als...\n",
      "Computing the msd similarity matrix...\n",
      "Done computing similarity matrix.\n",
      "Estimating biases using als...\n",
      "Computing the msd similarity matrix...\n",
      "Done computing similarity matrix.\n",
      "Estimating biases using als...\n",
      "Computing the msd similarity matrix...\n",
      "Done computing similarity matrix.\n",
      "Estimating biases using als...\n",
      "Computing the msd similarity matrix...\n",
      "Done computing similarity matrix.\n",
      "Estimating biases using als...\n",
      "Computing the msd similarity matrix...\n",
      "Done computing similarity matrix.\n",
      "Evaluating RMSE, MAE, FCP of algorithm KNNBaseline on 5 split(s).\n",
      "\n",
      "                  Fold 1  Fold 2  Fold 3  Fold 4  Fold 5  Mean    Std     \n",
      "RMSE (testset)    2.3987  2.2347  2.3918  2.3242  2.3316  2.3362  0.0591  \n",
      "MAE (testset)     1.8931  1.7640  1.9062  1.8358  1.8630  1.8524  0.0505  \n",
      "FCP (testset)     0.5185  0.5845  0.5710  0.5283  0.5383  0.5481  0.0254  \n",
      "Fit time          0.03    0.03    0.03    0.03    0.03    0.03    0.00    \n",
      "Test time         0.19    0.20    0.20    0.20    0.19    0.20    0.00    \n",
      "KNN... (item based)\n",
      "with means\n",
      "Computing the msd similarity matrix...\n",
      "Done computing similarity matrix.\n",
      "Computing the msd similarity matrix...\n",
      "Done computing similarity matrix.\n",
      "Computing the msd similarity matrix...\n",
      "Done computing similarity matrix.\n",
      "Computing the msd similarity matrix...\n",
      "Done computing similarity matrix.\n",
      "Computing the msd similarity matrix...\n",
      "Done computing similarity matrix.\n",
      "Evaluating RMSE, MAE, FCP of algorithm KNNWithMeans on 5 split(s).\n",
      "\n",
      "                  Fold 1  Fold 2  Fold 3  Fold 4  Fold 5  Mean    Std     \n",
      "RMSE (testset)    2.2537  2.3340  2.3269  2.4183  2.3945  2.3455  0.0576  \n",
      "MAE (testset)     1.7691  1.8416  1.8025  1.8850  1.8588  1.8314  0.0411  \n",
      "FCP (testset)     0.5836  0.5743  0.5894  0.5406  0.5461  0.5668  0.0198  \n",
      "Fit time          0.00    0.00    0.00    0.00    0.00    0.00    0.00    \n",
      "Test time         0.02    0.02    0.02    0.02    0.02    0.02    0.00    \n",
      "with z-scores\n",
      "Computing the msd similarity matrix...\n",
      "Done computing similarity matrix.\n",
      "Computing the msd similarity matrix...\n",
      "Done computing similarity matrix.\n",
      "Computing the msd similarity matrix...\n",
      "Done computing similarity matrix.\n",
      "Computing the msd similarity matrix...\n",
      "Done computing similarity matrix.\n",
      "Computing the msd similarity matrix...\n",
      "Done computing similarity matrix.\n",
      "Evaluating RMSE, MAE, FCP of algorithm KNNWithZScore on 5 split(s).\n",
      "\n",
      "                  Fold 1  Fold 2  Fold 3  Fold 4  Fold 5  Mean    Std     \n",
      "RMSE (testset)    2.3567  2.3748  2.4138  2.4128  2.2577  2.3632  0.0571  \n",
      "MAE (testset)     1.8353  1.8293  1.8729  1.8632  1.7844  1.8370  0.0310  \n",
      "FCP (testset)     0.5646  0.5733  0.5399  0.5670  0.5891  0.5668  0.0159  \n",
      "Fit time          0.00    0.00    0.01    0.01    0.00    0.00    0.00    \n",
      "Test time         0.02    0.02    0.02    0.02    0.02    0.02    0.00    \n",
      "with baselines\n",
      "Estimating biases using als...\n",
      "Computing the msd similarity matrix...\n",
      "Done computing similarity matrix.\n",
      "Estimating biases using als...\n",
      "Computing the msd similarity matrix...\n",
      "Done computing similarity matrix.\n",
      "Estimating biases using als...\n",
      "Computing the msd similarity matrix...\n",
      "Done computing similarity matrix.\n",
      "Estimating biases using als...\n",
      "Computing the msd similarity matrix...\n",
      "Done computing similarity matrix.\n",
      "Estimating biases using als...\n",
      "Computing the msd similarity matrix...\n",
      "Done computing similarity matrix.\n",
      "Evaluating RMSE, MAE, FCP of algorithm KNNBaseline on 5 split(s).\n",
      "\n",
      "                  Fold 1  Fold 2  Fold 3  Fold 4  Fold 5  Mean    Std     \n",
      "RMSE (testset)    2.3232  2.3039  2.4308  2.3767  2.3491  2.3568  0.0444  \n",
      "MAE (testset)     1.7946  1.7955  1.9030  1.8562  1.8267  1.8352  0.0408  \n",
      "FCP (testset)     0.5746  0.5926  0.5532  0.5701  0.5364  0.5654  0.0192  \n",
      "Fit time          0.01    0.01    0.01    0.01    0.01    0.01    0.00    \n",
      "Test time         0.02    0.02    0.02    0.02    0.04    0.03    0.01    \n",
      "BaselineOnly\n",
      "Estimating biases using als...\n",
      "Estimating biases using als...\n",
      "Estimating biases using als...\n",
      "Estimating biases using als...\n",
      "Estimating biases using als...\n",
      "Evaluating RMSE, MAE, FCP of algorithm BaselineOnly on 5 split(s).\n",
      "\n",
      "                  Fold 1  Fold 2  Fold 3  Fold 4  Fold 5  Mean    Std     \n",
      "RMSE (testset)    2.4227  2.3622  2.3948  2.3031  2.3463  2.3658  0.0410  \n",
      "MAE (testset)     1.9450  1.8933  1.9090  1.8425  1.8902  1.8960  0.0331  \n",
      "FCP (testset)     0.5806  0.5804  0.5622  0.5244  0.5749  0.5645  0.0211  \n",
      "Fit time          0.00    0.00    0.00    0.00    0.00    0.00    0.00    \n",
      "Test time         0.00    0.00    0.00    0.00    0.00    0.00    0.00    \n"
     ]
    }
   ],
   "source": [
    "\n",
    "# We can now use this dataset as we please, e.g. calling cross_validate\n",
    "algorithms = [\"SlopeOne\", \n",
    "              \"CoClustering\", \n",
    "              \"SVD\", \n",
    "              \"SVDpp\",\n",
    "              \"KNN_means_users\", \n",
    "              \"KNN_zscore_users\", \n",
    "              \"KNN_baselines_users\",\n",
    "              \"KNN_means_items\", \n",
    "              \"KNN_zscore_items\", \n",
    "              \"KNN_baselines_items\",\n",
    "              \"BaselineOnly\"]\n",
    "rmse = []\n",
    "mae = []\n",
    "fcp = []\n",
    "print(\"SlopeOne\")\n",
    "res = cross_validate(SlopeOne(), data, cv=5, measures = [\"rmse\", \"mae\", \"fcp\"], verbose=True)\n",
    "print(res)\n",
    "rmse.append(np.mean(res[\"test_rmse\"]))\n",
    "mae.append(np.mean(res[\"test_mae\"]))\n",
    "fcp.append(np.mean(res[\"test_fcp\"]))\n",
    "print(\"CoClustering\")\n",
    "res = cross_validate(CoClustering(), data, cv=5, measures = [\"rmse\", \"mae\", \"fcp\"], verbose=True)\n",
    "rmse.append(np.mean(res[\"test_rmse\"]))\n",
    "mae.append(np.mean(res[\"test_mae\"]))\n",
    "fcp.append(np.mean(res[\"test_fcp\"]))\n",
    "print(\"SVD\")\n",
    "res = cross_validate(SVD(), data, cv=5, measures = [\"rmse\", \"mae\", \"fcp\"], verbose=True)\n",
    "rmse.append(np.mean(res[\"test_rmse\"]))\n",
    "mae.append(np.mean(res[\"test_mae\"]))\n",
    "fcp.append(np.mean(res[\"test_fcp\"]))\n",
    "print(\"SVDpp\")\n",
    "res = cross_validate(SVDpp(), data, cv=5, measures = [\"rmse\", \"mae\", \"fcp\"], verbose=True)\n",
    "rmse.append(np.mean(res[\"test_rmse\"]))\n",
    "mae.append(np.mean(res[\"test_mae\"]))\n",
    "fcp.append(np.mean(res[\"test_fcp\"]))\n",
    "print(\"KNN... (user based)\")\n",
    "print(\"with means\")\n",
    "res = cross_validate(KNNWithMeans(), data, cv=5, measures = [\"rmse\", \"mae\", \"fcp\"], verbose=True)\n",
    "rmse.append(np.mean(res[\"test_rmse\"]))\n",
    "mae.append(np.mean(res[\"test_mae\"]))\n",
    "fcp.append(np.mean(res[\"test_fcp\"]))\n",
    "print(\"with z-score\")\n",
    "res = cross_validate(KNNWithZScore(), data, cv=5, measures = [\"rmse\", \"mae\", \"fcp\"], verbose=True)\n",
    "rmse.append(np.mean(res[\"test_rmse\"]))\n",
    "mae.append(np.mean(res[\"test_mae\"]))\n",
    "fcp.append(np.mean(res[\"test_fcp\"]))\n",
    "print(\"with baselines\")\n",
    "res = cross_validate(KNNBaseline(), data, cv=5, measures = [\"rmse\", \"mae\", \"fcp\"], verbose=True)\n",
    "rmse.append(np.mean(res[\"test_rmse\"]))\n",
    "mae.append(np.mean(res[\"test_mae\"]))\n",
    "fcp.append(np.mean(res[\"test_fcp\"]))\n",
    "print(\"KNN... (item based)\")\n",
    "print(\"with means\")\n",
    "res = cross_validate(KNNWithMeans(sim_options = {'user_based': False}), data, cv=5, measures = [\"rmse\", \"mae\", \"fcp\"], verbose=True)\n",
    "rmse.append(np.mean(res[\"test_rmse\"]))\n",
    "mae.append(np.mean(res[\"test_mae\"]))\n",
    "fcp.append(np.mean(res[\"test_fcp\"]))\n",
    "print(\"with z-scores\")\n",
    "res = cross_validate(KNNWithZScore(sim_options = {'user_based': False}), data, cv=5, measures = [\"rmse\", \"mae\", \"fcp\"], verbose=True)\n",
    "rmse.append(np.mean(res[\"test_rmse\"]))\n",
    "mae.append(np.mean(res[\"test_mae\"]))\n",
    "fcp.append(np.mean(res[\"test_fcp\"]))\n",
    "print(\"with baselines\")\n",
    "res = cross_validate(KNNBaseline(sim_options = {'user_based': False}), data, cv=5, measures = [\"rmse\", \"mae\", \"fcp\"], verbose=True)\n",
    "rmse.append(np.mean(res[\"test_rmse\"]))\n",
    "mae.append(np.mean(res[\"test_mae\"]))\n",
    "fcp.append(np.mean(res[\"test_fcp\"]))\n",
    "print(\"BaselineOnly\")\n",
    "res = cross_validate(BaselineOnly(), data, cv=5, measures = [\"rmse\", \"mae\", \"fcp\"], verbose=True)\n",
    "rmse.append(np.mean(res[\"test_rmse\"]))\n",
    "mae.append(np.mean(res[\"test_mae\"]))\n",
    "fcp.append(np.mean(res[\"test_fcp\"]))"
   ]
  },
  {
   "cell_type": "code",
   "execution_count": 21,
   "id": "7bcc98ba",
   "metadata": {},
   "outputs": [
    {
     "data": {
      "text/plain": "                   algo      rmse       mae       fcp\n0              SlopeOne  2.381394  1.867371  0.571712\n1          CoClustering  2.478678  1.944816  0.545626\n2                   SVD  2.331127  1.848878  0.551816\n3                 SVDpp  2.409844  1.883518  0.552678\n4       KNN_means_users  2.424163  1.915333  0.564871\n5      KNN_zscore_users  2.449865  1.921686  0.544296\n6   KNN_baselines_users  2.336187  1.852416  0.548123\n7       KNN_means_items  2.345456  1.831388  0.566809\n8      KNN_zscore_items  2.363158  1.837013  0.566751\n9   KNN_baselines_items  2.356754  1.835202  0.565367\n10         BaselineOnly  2.365820  1.895994  0.564493",
      "text/html": "<div>\n<style scoped>\n    .dataframe tbody tr th:only-of-type {\n        vertical-align: middle;\n    }\n\n    .dataframe tbody tr th {\n        vertical-align: top;\n    }\n\n    .dataframe thead th {\n        text-align: right;\n    }\n</style>\n<table border=\"1\" class=\"dataframe\">\n  <thead>\n    <tr style=\"text-align: right;\">\n      <th></th>\n      <th>algo</th>\n      <th>rmse</th>\n      <th>mae</th>\n      <th>fcp</th>\n    </tr>\n  </thead>\n  <tbody>\n    <tr>\n      <th>0</th>\n      <td>SlopeOne</td>\n      <td>2.381394</td>\n      <td>1.867371</td>\n      <td>0.571712</td>\n    </tr>\n    <tr>\n      <th>1</th>\n      <td>CoClustering</td>\n      <td>2.478678</td>\n      <td>1.944816</td>\n      <td>0.545626</td>\n    </tr>\n    <tr>\n      <th>2</th>\n      <td>SVD</td>\n      <td>2.331127</td>\n      <td>1.848878</td>\n      <td>0.551816</td>\n    </tr>\n    <tr>\n      <th>3</th>\n      <td>SVDpp</td>\n      <td>2.409844</td>\n      <td>1.883518</td>\n      <td>0.552678</td>\n    </tr>\n    <tr>\n      <th>4</th>\n      <td>KNN_means_users</td>\n      <td>2.424163</td>\n      <td>1.915333</td>\n      <td>0.564871</td>\n    </tr>\n    <tr>\n      <th>5</th>\n      <td>KNN_zscore_users</td>\n      <td>2.449865</td>\n      <td>1.921686</td>\n      <td>0.544296</td>\n    </tr>\n    <tr>\n      <th>6</th>\n      <td>KNN_baselines_users</td>\n      <td>2.336187</td>\n      <td>1.852416</td>\n      <td>0.548123</td>\n    </tr>\n    <tr>\n      <th>7</th>\n      <td>KNN_means_items</td>\n      <td>2.345456</td>\n      <td>1.831388</td>\n      <td>0.566809</td>\n    </tr>\n    <tr>\n      <th>8</th>\n      <td>KNN_zscore_items</td>\n      <td>2.363158</td>\n      <td>1.837013</td>\n      <td>0.566751</td>\n    </tr>\n    <tr>\n      <th>9</th>\n      <td>KNN_baselines_items</td>\n      <td>2.356754</td>\n      <td>1.835202</td>\n      <td>0.565367</td>\n    </tr>\n    <tr>\n      <th>10</th>\n      <td>BaselineOnly</td>\n      <td>2.365820</td>\n      <td>1.895994</td>\n      <td>0.564493</td>\n    </tr>\n  </tbody>\n</table>\n</div>"
     },
     "execution_count": 21,
     "metadata": {},
     "output_type": "execute_result"
    }
   ],
   "source": [
    "res_df = pd.DataFrame({\"algo\":algorithms, \"rmse\":rmse, \"mae\":mae, \"fcp\":fcp})\n",
    "res_df"
   ]
  },
  {
   "cell_type": "markdown",
   "id": "0049db29",
   "metadata": {},
   "source": [
    "The two best ones seem to be SVD and KNN_baselines_users (they seem to be equivalent)"
   ]
  },
  {
   "cell_type": "markdown",
   "id": "14f06acd",
   "metadata": {},
   "source": [
    "## Hyperparameters tuning"
   ]
  },
  {
   "cell_type": "code",
   "execution_count": 20,
   "id": "fe7f7647",
   "metadata": {},
   "outputs": [],
   "source": [
    "svd_params_dic = {\"n_factors\":[10, 50, 100, 300], \"n_epochs\":[20, 40, 100], \"lr_all\":[0.005, 0.1], \"reg_all\":[0.02, 0.1, 0.002]}\n",
    "\n",
    "param_search = RandomizedSearchCV(SVD, svd_params_dic)\n",
    "param_search.fit(data)"
   ]
  },
  {
   "cell_type": "code",
   "execution_count": 21,
   "id": "91978a20",
   "metadata": {},
   "outputs": [
    {
     "name": "stdout",
     "output_type": "stream",
     "text": [
      "{'rmse': {'n_factors': 50, 'n_epochs': 20, 'lr_all': 0.005, 'reg_all': 0.1}, 'mae': {'n_factors': 50, 'n_epochs': 20, 'lr_all': 0.005, 'reg_all': 0.1}}\n",
      "{'rmse': 2.3082569695050035, 'mae': 1.8374777419852948}\n"
     ]
    }
   ],
   "source": [
    "print(param_search.best_params)\n",
    "print(param_search.best_score)"
   ]
  },
  {
   "cell_type": "code",
   "execution_count": 22,
   "id": "967fc4ce",
   "metadata": {},
   "outputs": [
    {
     "name": "stdout",
     "output_type": "stream",
     "text": [
      "Estimating biases using als...\n",
      "Computing the pearson_baseline similarity matrix...\n",
      "Done computing similarity matrix.\n",
      "Estimating biases using als...\n",
      "Computing the pearson_baseline similarity matrix...\n",
      "Done computing similarity matrix.\n",
      "Estimating biases using als...\n",
      "Computing the pearson_baseline similarity matrix...\n",
      "Done computing similarity matrix.\n",
      "Estimating biases using als...\n",
      "Computing the pearson_baseline similarity matrix...\n",
      "Done computing similarity matrix.\n",
      "Estimating biases using als...\n",
      "Computing the pearson_baseline similarity matrix...\n",
      "Done computing similarity matrix.\n",
      "Estimating biases using als...\n",
      "Computing the pearson_baseline similarity matrix...\n",
      "Done computing similarity matrix.\n",
      "Estimating biases using als...\n",
      "Computing the pearson_baseline similarity matrix...\n",
      "Done computing similarity matrix.\n",
      "Estimating biases using als...\n",
      "Computing the pearson_baseline similarity matrix...\n",
      "Done computing similarity matrix.\n",
      "Estimating biases using als...\n",
      "Computing the pearson_baseline similarity matrix...\n",
      "Done computing similarity matrix.\n",
      "Estimating biases using als...\n",
      "Computing the pearson_baseline similarity matrix...\n",
      "Done computing similarity matrix.\n",
      "Estimating biases using als...\n",
      "Computing the pearson_baseline similarity matrix...\n",
      "Done computing similarity matrix.\n",
      "Estimating biases using als...\n",
      "Computing the pearson_baseline similarity matrix...\n",
      "Done computing similarity matrix.\n",
      "Estimating biases using als...\n",
      "Computing the pearson_baseline similarity matrix...\n",
      "Done computing similarity matrix.\n",
      "Estimating biases using als...\n",
      "Computing the pearson_baseline similarity matrix...\n",
      "Done computing similarity matrix.\n",
      "Estimating biases using als...\n",
      "Computing the pearson_baseline similarity matrix...\n",
      "Done computing similarity matrix.\n",
      "Estimating biases using als...\n",
      "Computing the cosine similarity matrix...\n"
     ]
    },
    {
     "name": "stderr",
     "output_type": "stream",
     "text": [
      "/Users/leo/opt/anaconda3/envs/nootropics/lib/python3.8/site-packages/surprise/prediction_algorithms/algo_base.py:249: RuntimeWarning: invalid value encountered in double_scalars\n",
      "  sim = construction_func[name](*args)\n"
     ]
    },
    {
     "name": "stdout",
     "output_type": "stream",
     "text": [
      "Done computing similarity matrix.\n",
      "Estimating biases using als...\n",
      "Computing the cosine similarity matrix...\n",
      "Done computing similarity matrix.\n",
      "Estimating biases using als...\n",
      "Computing the cosine similarity matrix...\n",
      "Done computing similarity matrix.\n",
      "Estimating biases using als...\n",
      "Computing the cosine similarity matrix...\n",
      "Done computing similarity matrix.\n",
      "Estimating biases using als...\n",
      "Computing the cosine similarity matrix...\n",
      "Done computing similarity matrix.\n",
      "Estimating biases using als...\n",
      "Computing the msd similarity matrix...\n",
      "Done computing similarity matrix.\n",
      "Estimating biases using als...\n",
      "Computing the msd similarity matrix...\n",
      "Done computing similarity matrix.\n",
      "Estimating biases using als...\n",
      "Computing the msd similarity matrix...\n",
      "Done computing similarity matrix.\n",
      "Estimating biases using als...\n",
      "Computing the msd similarity matrix...\n",
      "Done computing similarity matrix.\n",
      "Estimating biases using als...\n",
      "Computing the msd similarity matrix...\n",
      "Done computing similarity matrix.\n",
      "Estimating biases using als...\n",
      "Computing the cosine similarity matrix...\n",
      "Done computing similarity matrix.\n",
      "Estimating biases using als...\n",
      "Computing the cosine similarity matrix...\n",
      "Done computing similarity matrix.\n",
      "Estimating biases using als...\n",
      "Computing the cosine similarity matrix...\n",
      "Done computing similarity matrix.\n",
      "Estimating biases using als...\n",
      "Computing the cosine similarity matrix...\n",
      "Done computing similarity matrix.\n",
      "Estimating biases using als...\n",
      "Computing the cosine similarity matrix...\n",
      "Done computing similarity matrix.\n",
      "Estimating biases using als...\n",
      "Computing the msd similarity matrix...\n",
      "Done computing similarity matrix.\n",
      "Estimating biases using als...\n",
      "Computing the msd similarity matrix...\n",
      "Done computing similarity matrix.\n",
      "Estimating biases using als...\n",
      "Computing the msd similarity matrix...\n",
      "Done computing similarity matrix.\n",
      "Estimating biases using als...\n",
      "Computing the msd similarity matrix...\n",
      "Done computing similarity matrix.\n",
      "Estimating biases using als...\n",
      "Computing the msd similarity matrix...\n",
      "Done computing similarity matrix.\n",
      "Estimating biases using als...\n",
      "Computing the pearson_baseline similarity matrix...\n",
      "Done computing similarity matrix.\n",
      "Estimating biases using als...\n",
      "Computing the pearson_baseline similarity matrix...\n",
      "Done computing similarity matrix.\n",
      "Estimating biases using als...\n",
      "Computing the pearson_baseline similarity matrix...\n",
      "Done computing similarity matrix.\n",
      "Estimating biases using als...\n",
      "Computing the pearson_baseline similarity matrix...\n",
      "Done computing similarity matrix.\n",
      "Estimating biases using als...\n",
      "Computing the pearson_baseline similarity matrix...\n",
      "Done computing similarity matrix.\n",
      "Estimating biases using als...\n",
      "Computing the pearson_baseline similarity matrix...\n",
      "Done computing similarity matrix.\n",
      "Estimating biases using als...\n",
      "Computing the pearson_baseline similarity matrix...\n",
      "Done computing similarity matrix.\n",
      "Estimating biases using als...\n",
      "Computing the pearson_baseline similarity matrix...\n",
      "Done computing similarity matrix.\n",
      "Estimating biases using als...\n",
      "Computing the pearson_baseline similarity matrix...\n",
      "Done computing similarity matrix.\n",
      "Estimating biases using als...\n",
      "Computing the pearson_baseline similarity matrix...\n",
      "Done computing similarity matrix.\n",
      "Estimating biases using als...\n",
      "Computing the msd similarity matrix...\n",
      "Done computing similarity matrix.\n",
      "Estimating biases using als...\n",
      "Computing the msd similarity matrix...\n",
      "Done computing similarity matrix.\n",
      "Estimating biases using als...\n",
      "Computing the msd similarity matrix...\n",
      "Done computing similarity matrix.\n",
      "Estimating biases using als...\n",
      "Computing the msd similarity matrix...\n",
      "Done computing similarity matrix.\n",
      "Estimating biases using als...\n",
      "Computing the msd similarity matrix...\n",
      "Done computing similarity matrix.\n"
     ]
    }
   ],
   "source": [
    "knn_params_dic = {\"k\":[10, 20, 40, 60, 100], \n",
    "                  \"min_k\":[1, 2, 5, 10],\n",
    "                  \"sim_options\":{'name': ['pearson_baseline', 'msd', 'cosine'], \"user_based\":[True]}}\n",
    "\n",
    "knn_param_search = RandomizedSearchCV(KNNBaseline, knn_params_dic);\n",
    "knn_param_search.fit(data);"
   ]
  },
  {
   "cell_type": "code",
   "execution_count": 23,
   "id": "97a64434",
   "metadata": {},
   "outputs": [
    {
     "name": "stdout",
     "output_type": "stream",
     "text": [
      "{'rmse': {'k': 60, 'min_k': 2, 'sim_options': {'name': 'pearson_baseline', 'user_based': True}}, 'mae': {'k': 60, 'min_k': 2, 'sim_options': {'name': 'pearson_baseline', 'user_based': True}}}\n",
      "{'rmse': 2.3081040522732574, 'mae': 1.8321081214813546}\n"
     ]
    }
   ],
   "source": [
    "print(knn_param_search.best_params)\n",
    "print(knn_param_search.best_score)"
   ]
  },
  {
   "cell_type": "markdown",
   "id": "2e8b1b88",
   "metadata": {},
   "source": [
    "## The best model"
   ]
  },
  {
   "cell_type": "code",
   "execution_count": 24,
   "id": "e04475cf",
   "metadata": {},
   "outputs": [
    {
     "name": "stdout",
     "output_type": "stream",
     "text": [
      "Estimating biases using als...\n",
      "Computing the pearson_baseline similarity matrix...\n",
      "Done computing similarity matrix.\n"
     ]
    },
    {
     "data": {
      "text/plain": "<surprise.prediction_algorithms.knns.KNNBaseline at 0x7ffbb5dab6d0>"
     },
     "execution_count": 24,
     "metadata": {},
     "output_type": "execute_result"
    }
   ],
   "source": [
    "final_model = KNNBaseline(k=60, min_k=2, sim_options={'name': 'pearson_baseline', 'user_based':True})\n",
    "#train on the whole dataset\n",
    "trainset = data.build_full_trainset()\n",
    "final_model.fit(trainset)"
   ]
  },
  {
   "cell_type": "markdown",
   "id": "aed2f96f",
   "metadata": {},
   "source": [
    "### TODO\n",
    "ensemble the two models ?"
   ]
  },
  {
   "cell_type": "markdown",
   "id": "bae1f10a",
   "metadata": {},
   "source": [
    "# Predictions for new users"
   ]
  },
  {
   "cell_type": "markdown",
   "id": "109f5798",
   "metadata": {},
   "source": [
    "## Create a new dataframe"
   ]
  },
  {
   "cell_type": "code",
   "execution_count": 25,
   "id": "e441ec28",
   "metadata": {},
   "outputs": [],
   "source": [
    "new_user_ratings = {'Modafinil': 6, \n",
    "                    'Caffeine': 6,\n",
    "                    'Coluracetam': None, \n",
    "                    'Phenylpiracetam': None,\n",
    "                    'Theanine': 7,\n",
    "                    'Noopept': None,\n",
    "                    'Oxiracetam': None,\n",
    "                    'Aniracetam': None,\n",
    "                    'Rhodiola': None,\n",
    "                    'Creatine': 4,\n",
    "                    'Piracetam': None,\n",
    "                    'Ashwagandha': None,\n",
    "                    'Bacopa': None,\n",
    "                    'Choline': None,\n",
    "                    'DMAE': None,\n",
    "                    'Fasoracetam': None,\n",
    "                    'SemaxandNASemaxetc': None,\n",
    "                    'SelankandNASelanketc': None,\n",
    "                    'Inositol': None,\n",
    "                    'Seligiline': None,\n",
    "                    'AlphaBrainproprietaryblend': None,\n",
    "                    'Cerebrolysin': None,\n",
    "                    'Melatonin': 8,\n",
    "                    'Uridine': None,\n",
    "                    'Tianeptine': None,\n",
    "                    'MethyleneBlue': None,\n",
    "                    'Unifiram': None,\n",
    "                    'PRL853': None,\n",
    "                    'Emoxypine': None,\n",
    "                    'Picamilon': None,\n",
    "                    'Dihexa': None,\n",
    "                    'Epicorasimmunebooster': None,\n",
    "                    'LSD': 7,\n",
    "                    'Adderall': 8,\n",
    "                    \"Phenibut\": 6,\n",
    "                    \"Nicotine\": 7}"
   ]
  },
  {
   "cell_type": "code",
   "execution_count": 26,
   "id": "9b001b27",
   "metadata": {},
   "outputs": [],
   "source": [
    "new_user_id = max(df_clean[\"userID\"]) + 1\n",
    "ratings = np.array(list(new_user_ratings.values()))\n",
    "rated_mask = ratings != None\n",
    "ratings = ratings[rated_mask]\n",
    "items = np.array(list(new_user_ratings.keys()))[rated_mask]\n",
    "user = np.ones(len(items), dtype=\"int\") * new_user_id\n",
    "new_user_df = pd.DataFrame({\"userID\":user, \"itemID\":items, \"rating\":ratings})"
   ]
  },
  {
   "cell_type": "code",
   "execution_count": 27,
   "id": "d0b52700",
   "metadata": {},
   "outputs": [],
   "source": [
    "total_df = df_clean.append(new_user_df)"
   ]
  },
  {
   "cell_type": "code",
   "execution_count": 28,
   "id": "a80fe88a",
   "metadata": {},
   "outputs": [],
   "source": [
    "# A reader is still needed but only the rating_scale param is requiered.\n",
    "reader = Reader(rating_scale=(0, 10))\n",
    "\n",
    "# The columns must correspond to user id, item id and ratings (in that order).\n",
    "new_trainset = Dataset.load_from_df(total_df, reader).build_full_trainset()"
   ]
  },
  {
   "cell_type": "markdown",
   "id": "f74d8fe5",
   "metadata": {},
   "source": [
    "## Fit the best model"
   ]
  },
  {
   "cell_type": "code",
   "execution_count": 29,
   "id": "c97ae2e8",
   "metadata": {},
   "outputs": [
    {
     "name": "stdout",
     "output_type": "stream",
     "text": [
      "Estimating biases using als...\n",
      "Computing the pearson_baseline similarity matrix...\n",
      "Done computing similarity matrix.\n"
     ]
    },
    {
     "data": {
      "text/plain": "<surprise.prediction_algorithms.knns.KNNBaseline at 0x7ffbb5dab6d0>"
     },
     "execution_count": 29,
     "metadata": {},
     "output_type": "execute_result"
    }
   ],
   "source": [
    "final_model.fit(new_trainset)"
   ]
  },
  {
   "cell_type": "code",
   "execution_count": 30,
   "id": "4dd0a3dc",
   "metadata": {},
   "outputs": [],
   "source": [
    "all_nootropics = new_user_ratings.keys()\n",
    "predicted_ratings = []\n",
    "for nootropic in all_nootropics:\n",
    "    predicted_ratings.append(final_model.predict(new_user_id, nootropic).est)\n",
    "    \n",
    "item_baselines = final_model.default_prediction() + final_model.compute_baselines()[1] # mean rating + item baseline ?\n",
    "\n",
    "result_df = pd.DataFrame({\"nootropic\":all_nootropics, \"predicted_rating\":predicted_ratings, \"baseline_rating\":item_baselines})\n",
    "    "
   ]
  },
  {
   "cell_type": "code",
   "execution_count": 31,
   "id": "c438b671",
   "metadata": {},
   "outputs": [
    {
     "data": {
      "text/plain": "                     nootropic  predicted_rating  baseline_rating\n33                    Adderall          7.997645         7.681135\n22                   Melatonin          7.916746         5.689561\n35                    Nicotine          7.158815         5.772261\n4                     Theanine          7.121568         5.137373\n32                         LSD          7.107606         6.234681\n16          SemaxandNASemaxetc          6.960977         6.167291\n24                  Tianeptine          6.524165         6.434908\n1                     Caffeine          6.421540         6.018941\n21                Cerebrolysin          6.323260         5.615556\n34                    Phenibut          6.155112         7.029181\n0                    Modafinil          6.040632         6.631811\n17        SelankandNASelanketc          5.942025         5.672601\n27                      PRL853          5.881803         5.629883\n11                 Ashwagandha          5.603798         5.264983\n31       Epicorasimmunebooster          5.588897         5.505173\n25               MethyleneBlue          5.511611         4.978221\n5                      Noopept          5.480014         4.858149\n3              Phenylpiracetam          5.382007         5.346027\n23                     Uridine          5.224637         5.101100\n7                   Aniracetam          5.201553         4.955426\n26                    Unifiram          5.114960         4.828868\n10                   Piracetam          5.098493         4.661614\n6                   Oxiracetam          4.967779         5.057999\n12                      Bacopa          4.840842         4.790474\n8                     Rhodiola          4.650908         4.516702\n28                   Emoxypine          4.574101         4.678998\n2                  Coluracetam          4.561890         4.784907\n30                      Dihexa          4.508941         5.072679\n15                 Fasoracetam          4.409967         4.541294\n13                     Choline          4.354001         4.192473\n14                        DMAE          4.349459         4.439559\n9                     Creatine          4.282800         4.601508\n18                    Inositol          4.270743         4.087739\n19                  Seligiline          3.896780         5.097957\n29                   Picamilon          3.763101         3.868758\n20  AlphaBrainproprietaryblend          2.943112         3.521495",
      "text/html": "<div>\n<style scoped>\n    .dataframe tbody tr th:only-of-type {\n        vertical-align: middle;\n    }\n\n    .dataframe tbody tr th {\n        vertical-align: top;\n    }\n\n    .dataframe thead th {\n        text-align: right;\n    }\n</style>\n<table border=\"1\" class=\"dataframe\">\n  <thead>\n    <tr style=\"text-align: right;\">\n      <th></th>\n      <th>nootropic</th>\n      <th>predicted_rating</th>\n      <th>baseline_rating</th>\n    </tr>\n  </thead>\n  <tbody>\n    <tr>\n      <th>33</th>\n      <td>Adderall</td>\n      <td>7.997645</td>\n      <td>7.681135</td>\n    </tr>\n    <tr>\n      <th>22</th>\n      <td>Melatonin</td>\n      <td>7.916746</td>\n      <td>5.689561</td>\n    </tr>\n    <tr>\n      <th>35</th>\n      <td>Nicotine</td>\n      <td>7.158815</td>\n      <td>5.772261</td>\n    </tr>\n    <tr>\n      <th>4</th>\n      <td>Theanine</td>\n      <td>7.121568</td>\n      <td>5.137373</td>\n    </tr>\n    <tr>\n      <th>32</th>\n      <td>LSD</td>\n      <td>7.107606</td>\n      <td>6.234681</td>\n    </tr>\n    <tr>\n      <th>16</th>\n      <td>SemaxandNASemaxetc</td>\n      <td>6.960977</td>\n      <td>6.167291</td>\n    </tr>\n    <tr>\n      <th>24</th>\n      <td>Tianeptine</td>\n      <td>6.524165</td>\n      <td>6.434908</td>\n    </tr>\n    <tr>\n      <th>1</th>\n      <td>Caffeine</td>\n      <td>6.421540</td>\n      <td>6.018941</td>\n    </tr>\n    <tr>\n      <th>21</th>\n      <td>Cerebrolysin</td>\n      <td>6.323260</td>\n      <td>5.615556</td>\n    </tr>\n    <tr>\n      <th>34</th>\n      <td>Phenibut</td>\n      <td>6.155112</td>\n      <td>7.029181</td>\n    </tr>\n    <tr>\n      <th>0</th>\n      <td>Modafinil</td>\n      <td>6.040632</td>\n      <td>6.631811</td>\n    </tr>\n    <tr>\n      <th>17</th>\n      <td>SelankandNASelanketc</td>\n      <td>5.942025</td>\n      <td>5.672601</td>\n    </tr>\n    <tr>\n      <th>27</th>\n      <td>PRL853</td>\n      <td>5.881803</td>\n      <td>5.629883</td>\n    </tr>\n    <tr>\n      <th>11</th>\n      <td>Ashwagandha</td>\n      <td>5.603798</td>\n      <td>5.264983</td>\n    </tr>\n    <tr>\n      <th>31</th>\n      <td>Epicorasimmunebooster</td>\n      <td>5.588897</td>\n      <td>5.505173</td>\n    </tr>\n    <tr>\n      <th>25</th>\n      <td>MethyleneBlue</td>\n      <td>5.511611</td>\n      <td>4.978221</td>\n    </tr>\n    <tr>\n      <th>5</th>\n      <td>Noopept</td>\n      <td>5.480014</td>\n      <td>4.858149</td>\n    </tr>\n    <tr>\n      <th>3</th>\n      <td>Phenylpiracetam</td>\n      <td>5.382007</td>\n      <td>5.346027</td>\n    </tr>\n    <tr>\n      <th>23</th>\n      <td>Uridine</td>\n      <td>5.224637</td>\n      <td>5.101100</td>\n    </tr>\n    <tr>\n      <th>7</th>\n      <td>Aniracetam</td>\n      <td>5.201553</td>\n      <td>4.955426</td>\n    </tr>\n    <tr>\n      <th>26</th>\n      <td>Unifiram</td>\n      <td>5.114960</td>\n      <td>4.828868</td>\n    </tr>\n    <tr>\n      <th>10</th>\n      <td>Piracetam</td>\n      <td>5.098493</td>\n      <td>4.661614</td>\n    </tr>\n    <tr>\n      <th>6</th>\n      <td>Oxiracetam</td>\n      <td>4.967779</td>\n      <td>5.057999</td>\n    </tr>\n    <tr>\n      <th>12</th>\n      <td>Bacopa</td>\n      <td>4.840842</td>\n      <td>4.790474</td>\n    </tr>\n    <tr>\n      <th>8</th>\n      <td>Rhodiola</td>\n      <td>4.650908</td>\n      <td>4.516702</td>\n    </tr>\n    <tr>\n      <th>28</th>\n      <td>Emoxypine</td>\n      <td>4.574101</td>\n      <td>4.678998</td>\n    </tr>\n    <tr>\n      <th>2</th>\n      <td>Coluracetam</td>\n      <td>4.561890</td>\n      <td>4.784907</td>\n    </tr>\n    <tr>\n      <th>30</th>\n      <td>Dihexa</td>\n      <td>4.508941</td>\n      <td>5.072679</td>\n    </tr>\n    <tr>\n      <th>15</th>\n      <td>Fasoracetam</td>\n      <td>4.409967</td>\n      <td>4.541294</td>\n    </tr>\n    <tr>\n      <th>13</th>\n      <td>Choline</td>\n      <td>4.354001</td>\n      <td>4.192473</td>\n    </tr>\n    <tr>\n      <th>14</th>\n      <td>DMAE</td>\n      <td>4.349459</td>\n      <td>4.439559</td>\n    </tr>\n    <tr>\n      <th>9</th>\n      <td>Creatine</td>\n      <td>4.282800</td>\n      <td>4.601508</td>\n    </tr>\n    <tr>\n      <th>18</th>\n      <td>Inositol</td>\n      <td>4.270743</td>\n      <td>4.087739</td>\n    </tr>\n    <tr>\n      <th>19</th>\n      <td>Seligiline</td>\n      <td>3.896780</td>\n      <td>5.097957</td>\n    </tr>\n    <tr>\n      <th>29</th>\n      <td>Picamilon</td>\n      <td>3.763101</td>\n      <td>3.868758</td>\n    </tr>\n    <tr>\n      <th>20</th>\n      <td>AlphaBrainproprietaryblend</td>\n      <td>2.943112</td>\n      <td>3.521495</td>\n    </tr>\n  </tbody>\n</table>\n</div>"
     },
     "execution_count": 31,
     "metadata": {},
     "output_type": "execute_result"
    }
   ],
   "source": [
    "result_df.sort_values(\"predicted_rating\", ascending=False)"
   ]
  },
  {
   "cell_type": "markdown",
   "id": "81b1b8d6",
   "metadata": {},
   "source": [
    "# TODO:\n",
    "- Use user features (sex, age, self-rated anxiety, depression and ADHD...) (see https://github.com/NicolasHug/Surprise/pull/159 and  https://github.com/martincousi/Surprise/blob/sample_weight/surprise/prediction_algorithms/factorization_machines.py for a discussion on how to use this inside Surprise)\n",
    "- is Surprise good ? Can I get better results with RandomForest etc ?"
   ]
  }
 ],
 "metadata": {
  "kernelspec": {
   "display_name": "Python 3",
   "language": "python",
   "name": "python3"
  },
  "language_info": {
   "codemirror_mode": {
    "name": "ipython",
    "version": 3
   },
   "file_extension": ".py",
   "mimetype": "text/x-python",
   "name": "python",
   "nbconvert_exporter": "python",
   "pygments_lexer": "ipython3",
   "version": "3.8.10"
  }
 },
 "nbformat": 4,
 "nbformat_minor": 5
}