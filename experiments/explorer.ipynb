{
 "cells": [
  {
   "cell_type": "code",
   "execution_count": 7,
   "outputs": [],
   "source": [
    "import pandas as pd"
   ],
   "metadata": {
    "collapsed": false,
    "pycharm": {
     "name": "#%%\n"
    }
   }
  },
  {
   "cell_type": "code",
   "execution_count": 135,
   "outputs": [],
   "source": [
    "df_1 = pd.read_csv(\"../data/nootropics_survey_darkha.csv\")"
   ],
   "metadata": {
    "collapsed": false,
    "pycharm": {
     "name": "#%%\n"
    }
   }
  },
  {
   "cell_type": "code",
   "execution_count": 136,
   "outputs": [
    {
     "data": {
      "text/plain": "     Unnamed: 0  SERIAL  REF           QUESTNNR       MODE  \\\n0            63     NaN  NaN  sociodemographics  interview   \n1            69     NaN  NaN  sociodemographics  interview   \n2            79     NaN  NaN  sociodemographics  interview   \n3            81     NaN  NaN  sociodemographics  interview   \n4            96     NaN  NaN  sociodemographics  interview   \n..          ...     ...  ...                ...        ...   \n375        4727     NaN  NaN  sociodemographics  interview   \n376        4739     NaN  NaN  sociodemographics  interview   \n377        4750     NaN  NaN  sociodemographics  interview   \n378        4752     NaN  NaN  sociodemographics  interview   \n379        4754     NaN  NaN  sociodemographics  interview   \n\n                 STARTED  NO01  NO01_01  NO01_02  NO01_03  ...  MISSING  \\\n0    2017-06-12 13:15:57    15     True     True     True  ...        0   \n1    2017-06-12 13:24:49    12     True    False     True  ...        0   \n2    2017-06-12 13:34:38    11     True    False     True  ...        0   \n3    2017-06-12 13:36:56     4    False    False    False  ...        0   \n4    2017-06-12 14:07:12     5     True    False     True  ...        0   \n..                   ...   ...      ...      ...      ...  ...      ...   \n375  2017-07-01 02:48:21    19     True     True     True  ...        0   \n376  2017-07-01 23:49:18     4    False    False     True  ...        0   \n377  2017-07-03 05:47:38    22    False    False     True  ...        1   \n378  2017-07-03 14:29:28    40     True     True     True  ...        0   \n379  2017-07-03 22:46:14     0    False    False    False  ...      100   \n\n     MISSREL  TIME_RSI  DEG_TIME  Neuroticism  Extraversion  Aggreeableness  \\\n0          0      1.34        25         2.50          3.00            3.00   \n1          0      1.80        48         1.50          2.00            4.00   \n2          0      1.43        30         2.00          2.25            2.75   \n3          0      2.09        64         3.25          4.00            2.00   \n4          0      1.76        38         3.75          2.75            4.00   \n..       ...       ...       ...          ...           ...             ...   \n375        0      0.44         0         3.25          2.50            1.50   \n376        0      1.40        61         3.25          1.25            3.75   \n377        1      0.93        16         2.50          3.00            4.50   \n378        0      0.50         0         3.50          2.00            3.50   \n379      100      2.54       279          NaN           NaN             NaN   \n\n     Conscientiousness  Openness  subject  \n0                 3.00      3.25        1  \n1                 3.75      5.00        2  \n2                 3.25      5.00        3  \n3                 2.75      3.75        4  \n4                 1.75      4.00        5  \n..                 ...       ...      ...  \n375               4.00      5.00      376  \n376               1.00      3.75      377  \n377               1.50      5.00      378  \n378               3.00      4.25      379  \n379                NaN       NaN      380  \n\n[380 rows x 593 columns]",
      "text/html": "<div>\n<style scoped>\n    .dataframe tbody tr th:only-of-type {\n        vertical-align: middle;\n    }\n\n    .dataframe tbody tr th {\n        vertical-align: top;\n    }\n\n    .dataframe thead th {\n        text-align: right;\n    }\n</style>\n<table border=\"1\" class=\"dataframe\">\n  <thead>\n    <tr style=\"text-align: right;\">\n      <th></th>\n      <th>Unnamed: 0</th>\n      <th>SERIAL</th>\n      <th>REF</th>\n      <th>QUESTNNR</th>\n      <th>MODE</th>\n      <th>STARTED</th>\n      <th>NO01</th>\n      <th>NO01_01</th>\n      <th>NO01_02</th>\n      <th>NO01_03</th>\n      <th>...</th>\n      <th>MISSING</th>\n      <th>MISSREL</th>\n      <th>TIME_RSI</th>\n      <th>DEG_TIME</th>\n      <th>Neuroticism</th>\n      <th>Extraversion</th>\n      <th>Aggreeableness</th>\n      <th>Conscientiousness</th>\n      <th>Openness</th>\n      <th>subject</th>\n    </tr>\n  </thead>\n  <tbody>\n    <tr>\n      <th>0</th>\n      <td>63</td>\n      <td>NaN</td>\n      <td>NaN</td>\n      <td>sociodemographics</td>\n      <td>interview</td>\n      <td>2017-06-12 13:15:57</td>\n      <td>15</td>\n      <td>True</td>\n      <td>True</td>\n      <td>True</td>\n      <td>...</td>\n      <td>0</td>\n      <td>0</td>\n      <td>1.34</td>\n      <td>25</td>\n      <td>2.50</td>\n      <td>3.00</td>\n      <td>3.00</td>\n      <td>3.00</td>\n      <td>3.25</td>\n      <td>1</td>\n    </tr>\n    <tr>\n      <th>1</th>\n      <td>69</td>\n      <td>NaN</td>\n      <td>NaN</td>\n      <td>sociodemographics</td>\n      <td>interview</td>\n      <td>2017-06-12 13:24:49</td>\n      <td>12</td>\n      <td>True</td>\n      <td>False</td>\n      <td>True</td>\n      <td>...</td>\n      <td>0</td>\n      <td>0</td>\n      <td>1.80</td>\n      <td>48</td>\n      <td>1.50</td>\n      <td>2.00</td>\n      <td>4.00</td>\n      <td>3.75</td>\n      <td>5.00</td>\n      <td>2</td>\n    </tr>\n    <tr>\n      <th>2</th>\n      <td>79</td>\n      <td>NaN</td>\n      <td>NaN</td>\n      <td>sociodemographics</td>\n      <td>interview</td>\n      <td>2017-06-12 13:34:38</td>\n      <td>11</td>\n      <td>True</td>\n      <td>False</td>\n      <td>True</td>\n      <td>...</td>\n      <td>0</td>\n      <td>0</td>\n      <td>1.43</td>\n      <td>30</td>\n      <td>2.00</td>\n      <td>2.25</td>\n      <td>2.75</td>\n      <td>3.25</td>\n      <td>5.00</td>\n      <td>3</td>\n    </tr>\n    <tr>\n      <th>3</th>\n      <td>81</td>\n      <td>NaN</td>\n      <td>NaN</td>\n      <td>sociodemographics</td>\n      <td>interview</td>\n      <td>2017-06-12 13:36:56</td>\n      <td>4</td>\n      <td>False</td>\n      <td>False</td>\n      <td>False</td>\n      <td>...</td>\n      <td>0</td>\n      <td>0</td>\n      <td>2.09</td>\n      <td>64</td>\n      <td>3.25</td>\n      <td>4.00</td>\n      <td>2.00</td>\n      <td>2.75</td>\n      <td>3.75</td>\n      <td>4</td>\n    </tr>\n    <tr>\n      <th>4</th>\n      <td>96</td>\n      <td>NaN</td>\n      <td>NaN</td>\n      <td>sociodemographics</td>\n      <td>interview</td>\n      <td>2017-06-12 14:07:12</td>\n      <td>5</td>\n      <td>True</td>\n      <td>False</td>\n      <td>True</td>\n      <td>...</td>\n      <td>0</td>\n      <td>0</td>\n      <td>1.76</td>\n      <td>38</td>\n      <td>3.75</td>\n      <td>2.75</td>\n      <td>4.00</td>\n      <td>1.75</td>\n      <td>4.00</td>\n      <td>5</td>\n    </tr>\n    <tr>\n      <th>...</th>\n      <td>...</td>\n      <td>...</td>\n      <td>...</td>\n      <td>...</td>\n      <td>...</td>\n      <td>...</td>\n      <td>...</td>\n      <td>...</td>\n      <td>...</td>\n      <td>...</td>\n      <td>...</td>\n      <td>...</td>\n      <td>...</td>\n      <td>...</td>\n      <td>...</td>\n      <td>...</td>\n      <td>...</td>\n      <td>...</td>\n      <td>...</td>\n      <td>...</td>\n      <td>...</td>\n    </tr>\n    <tr>\n      <th>375</th>\n      <td>4727</td>\n      <td>NaN</td>\n      <td>NaN</td>\n      <td>sociodemographics</td>\n      <td>interview</td>\n      <td>2017-07-01 02:48:21</td>\n      <td>19</td>\n      <td>True</td>\n      <td>True</td>\n      <td>True</td>\n      <td>...</td>\n      <td>0</td>\n      <td>0</td>\n      <td>0.44</td>\n      <td>0</td>\n      <td>3.25</td>\n      <td>2.50</td>\n      <td>1.50</td>\n      <td>4.00</td>\n      <td>5.00</td>\n      <td>376</td>\n    </tr>\n    <tr>\n      <th>376</th>\n      <td>4739</td>\n      <td>NaN</td>\n      <td>NaN</td>\n      <td>sociodemographics</td>\n      <td>interview</td>\n      <td>2017-07-01 23:49:18</td>\n      <td>4</td>\n      <td>False</td>\n      <td>False</td>\n      <td>True</td>\n      <td>...</td>\n      <td>0</td>\n      <td>0</td>\n      <td>1.40</td>\n      <td>61</td>\n      <td>3.25</td>\n      <td>1.25</td>\n      <td>3.75</td>\n      <td>1.00</td>\n      <td>3.75</td>\n      <td>377</td>\n    </tr>\n    <tr>\n      <th>377</th>\n      <td>4750</td>\n      <td>NaN</td>\n      <td>NaN</td>\n      <td>sociodemographics</td>\n      <td>interview</td>\n      <td>2017-07-03 05:47:38</td>\n      <td>22</td>\n      <td>False</td>\n      <td>False</td>\n      <td>True</td>\n      <td>...</td>\n      <td>1</td>\n      <td>1</td>\n      <td>0.93</td>\n      <td>16</td>\n      <td>2.50</td>\n      <td>3.00</td>\n      <td>4.50</td>\n      <td>1.50</td>\n      <td>5.00</td>\n      <td>378</td>\n    </tr>\n    <tr>\n      <th>378</th>\n      <td>4752</td>\n      <td>NaN</td>\n      <td>NaN</td>\n      <td>sociodemographics</td>\n      <td>interview</td>\n      <td>2017-07-03 14:29:28</td>\n      <td>40</td>\n      <td>True</td>\n      <td>True</td>\n      <td>True</td>\n      <td>...</td>\n      <td>0</td>\n      <td>0</td>\n      <td>0.50</td>\n      <td>0</td>\n      <td>3.50</td>\n      <td>2.00</td>\n      <td>3.50</td>\n      <td>3.00</td>\n      <td>4.25</td>\n      <td>379</td>\n    </tr>\n    <tr>\n      <th>379</th>\n      <td>4754</td>\n      <td>NaN</td>\n      <td>NaN</td>\n      <td>sociodemographics</td>\n      <td>interview</td>\n      <td>2017-07-03 22:46:14</td>\n      <td>0</td>\n      <td>False</td>\n      <td>False</td>\n      <td>False</td>\n      <td>...</td>\n      <td>100</td>\n      <td>100</td>\n      <td>2.54</td>\n      <td>279</td>\n      <td>NaN</td>\n      <td>NaN</td>\n      <td>NaN</td>\n      <td>NaN</td>\n      <td>NaN</td>\n      <td>380</td>\n    </tr>\n  </tbody>\n</table>\n<p>380 rows × 593 columns</p>\n</div>"
     },
     "execution_count": 136,
     "metadata": {},
     "output_type": "execute_result"
    }
   ],
   "source": [
    "df_1"
   ],
   "metadata": {
    "collapsed": false,
    "pycharm": {
     "name": "#%%\n"
    }
   }
  },
  {
   "cell_type": "code",
   "execution_count": 137,
   "outputs": [],
   "source": [
    "code = {\"NR01_01\": \"L-Theanine\",\n",
    " \"NR01_02\":\"Bacopa Monnieri\",\n",
    " \"NR01_03\": \"Caffeine\",\n",
    " \"NR01_04\": \"Curcumin\",\n",
    " \"NR01_05\":\"Ashwagandha\",\n",
    " \"NR01_06\": \"Rhodiola rosea\",\n",
    " \"NR01_07\": \"St John's Wort\",\n",
    " \"NR01_08\": \"Kava\",\n",
    " \"NR01_09\":\"Methylphenidate\",\n",
    " \"NR01_10\": \"Adderall\",\n",
    " \"NR01_11\": \"L-Deprenyl\",\n",
    "\"NR01_12\": \"Tyrosine\",\n",
    "\"NR01_13\": \"N-Acetyl-L-Tyrosine\",\n",
    "\"NR01_14\": \"Creatine\",\n",
    "\"NR01_15\": \"CDP-Choline\",\n",
    "\"NR01_16\": \"Alpha-GPC\",\n",
    "\"NR01_17\": \"Carnitine / Acetyl-L-Carnitine\",\n",
    "\"NR01_18\": \"Omega-3 Supplements\",\n",
    "\"NR01_19\": \"Magnesium\",\n",
    "\"NR01_20\": \"Modafinil\",\n",
    "\"NR01_21\": \"Armodafinil\",\n",
    "\"NR01_22\": \"Adrafinil\",\n",
    "\"NR01_24\": \"Piracetam\",\n",
    "\"NR01_25\": \"Phenylpiracetam\",\n",
    "\"NR01_26\": \"Aniracetam\",\n",
    "\"NR01_27\": \"Oxiracetam\",\n",
    "\"NR01_28\": \"Pramiracetam\",\n",
    "\"NR01_29\": \"Coluracetam\",\n",
    "\"NR01_30\": \"Fasoracetam\",\n",
    "\"NR01_31\": \"Nefiracetam\",\n",
    "\"NR01_32\": \"Noopept\",\n",
    "\"NR01_33\": \"Semax\",\n",
    "\"NR01_34\": \"Selank\",\n",
    "\"NR01_35\": \"Doepezil\",\n",
    "\"NR01_36\": \"Huperzine A\",\n",
    "#\"NR01_37\": \"Ampalex\",\n",
    "\"NR01_38\": \"Tianetpine\",\n",
    "\"NR01_39\": \"NSI-189\",\n",
    "\"NR01_40\": \"Melatonin\",\n",
    "\"NR01_41\": \"GABA\",\n",
    "\"NR01_42\": \"5-HTP\",\n",
    "\"NR01_43\": \"Black Seed Oil\",\n",
    "\"NR01_44\": \"Ginseng\",\n",
    "\"NR01_45\": \"Ginkgo biloba\",\n",
    "\"NR01_46\": \"Nicotine\",\n",
    "\"NR01_47\": \"Sulbutiamine\",\n",
    "\"NR01_48\": \"Uridine\",\n",
    "\"NR01_49\": \"Sarcosine\",\n",
    "\"NR01_50\": \"Sunifiram\",\n",
    "\"NR01_51\": \"BPC-157\",\n",
    "\"NR01_52\": \"Boswellia\",\n",
    "\"NR01_54\": \"Guanfacine\",\n",
    "\"NR01_55\": \"DMHA\",\n",
    "\"NR01_56\": \"LSD Microdose\",\n",
    "\"NR01_57\": \"CBD Oil\",\n",
    "\"NR01_58\": \"PRL-8-53\",\n",
    "\"NR01_59\": \"Agmatine\",\n",
    "\"NR01_60\": \"Selegiline / Deprenyl\",\n",
    "\"NR01_61\": \"Phenibut\",\n",
    "\"NR01_62\": \"Lion's Mane\",\n",
    "\"NR01_63\": \"Methylene blue\"}"
   ],
   "metadata": {
    "collapsed": false,
    "pycharm": {
     "name": "#%%\n"
    }
   }
  },
  {
   "cell_type": "code",
   "execution_count": 138,
   "outputs": [
    {
     "name": "stdout",
     "output_type": "stream",
     "text": [
      "['NR01_01', 'NR01_02', 'NR01_03', 'NR01_04', 'NR01_05', 'NR01_06', 'NR01_07', 'NR01_08', 'NR01_09', 'NR01_10', 'NR01_11', 'NR01_12', 'NR01_13', 'NR01_14', 'NR01_15', 'NR01_16', 'NR01_17', 'NR01_18', 'NR01_19', 'NR01_20', 'NR01_21', 'NR01_22', 'NR01_24', 'NR01_25', 'NR01_26', 'NR01_27', 'NR01_28', 'NR01_29', 'NR01_30', 'NR01_31', 'NR01_32', 'NR01_33', 'NR01_34', 'NR01_35', 'NR01_36', 'NR01_38', 'NR01_39', 'NR01_40', 'NR01_41', 'NR01_42', 'NR01_43', 'NR01_44', 'NR01_45', 'NR01_46', 'NR01_47', 'NR01_48', 'NR01_49', 'NR01_50', 'NR01_51', 'NR01_52', 'NR01_54', 'NR01_55', 'NR01_56', 'NR01_57', 'NR01_58', 'NR01_59', 'NR01_60', 'NR01_61', 'NR01_62', 'NR01_63']\n"
     ]
    }
   ],
   "source": [
    "print(list(code.keys()))\n",
    "df_1 = df_1[list(code.keys())]"
   ],
   "metadata": {
    "collapsed": false,
    "pycharm": {
     "name": "#%%\n"
    }
   }
  },
  {
   "cell_type": "code",
   "execution_count": 139,
   "outputs": [],
   "source": [
    "df_1 = df_1.rename(columns = code)"
   ],
   "metadata": {
    "collapsed": false,
    "pycharm": {
     "name": "#%%\n"
    }
   }
  },
  {
   "cell_type": "code",
   "execution_count": 140,
   "outputs": [
    {
     "data": {
      "text/plain": "     L-Theanine  Bacopa Monnieri  Caffeine  Curcumin  Ashwagandha  \\\n0           3.0              3.0       3.0       3.0          NaN   \n1           6.0              NaN       6.0       NaN          7.0   \n2           7.0              NaN       5.0       NaN          6.0   \n3           NaN              NaN       NaN       NaN          NaN   \n4           4.0              NaN       6.0       NaN          NaN   \n..          ...              ...       ...       ...          ...   \n375         4.0              4.0       5.0       NaN          NaN   \n376         NaN              NaN       4.0       NaN          NaN   \n377         NaN              NaN       6.0       NaN          NaN   \n378         7.0              5.0       6.0       3.0          5.0   \n379         NaN              NaN       NaN       NaN          NaN   \n\n     Rhodiola rosea  St John's Wort  Kava  Methylphenidate  Adderall  ...  \\\n0               3.0             3.0   NaN              NaN       NaN  ...   \n1               NaN             NaN   NaN              NaN       NaN  ...   \n2               NaN             NaN   NaN              NaN       6.0  ...   \n3               NaN             NaN   NaN              3.0       7.0  ...   \n4               NaN             NaN   NaN              NaN       6.0  ...   \n..              ...             ...   ...              ...       ...  ...   \n375             4.0             NaN   NaN              7.0       NaN  ...   \n376             NaN             NaN   NaN              NaN       NaN  ...   \n377             NaN             6.0   NaN              1.0       NaN  ...   \n378             5.0             NaN   5.0              6.0       NaN  ...   \n379             NaN             NaN   NaN              NaN       NaN  ...   \n\n     Guanfacine  DMHA  LSD Microdose  CBD Oil  PRL-8-53  Agmatine  \\\n0           NaN   NaN            NaN      NaN       NaN       NaN   \n1           NaN   NaN            NaN      NaN       NaN       NaN   \n2           NaN   NaN            7.0      NaN       NaN       NaN   \n3           NaN   NaN            NaN      NaN       NaN       NaN   \n4           NaN   NaN            NaN      NaN       NaN       NaN   \n..          ...   ...            ...      ...       ...       ...   \n375         NaN   NaN            7.0      5.0       NaN       NaN   \n376         NaN   NaN            NaN      7.0       NaN       NaN   \n377         NaN   NaN            7.0      NaN       NaN       NaN   \n378         NaN   NaN            NaN      NaN       4.0       4.0   \n379         NaN   NaN            NaN      NaN       NaN       NaN   \n\n     Selegiline / Deprenyl  Phenibut  Lion's Mane  Methylene blue  \n0                      NaN       3.0          NaN             NaN  \n1                      NaN       NaN          NaN             NaN  \n2                      NaN       NaN          NaN             NaN  \n3                      NaN       NaN          NaN             NaN  \n4                      NaN       NaN          NaN             NaN  \n..                     ...       ...          ...             ...  \n375                    NaN       NaN          6.0             NaN  \n376                    NaN       NaN          NaN             NaN  \n377                    NaN       5.0          NaN             NaN  \n378                    NaN       7.0          4.0             NaN  \n379                    NaN       NaN          NaN             NaN  \n\n[380 rows x 60 columns]",
      "text/html": "<div>\n<style scoped>\n    .dataframe tbody tr th:only-of-type {\n        vertical-align: middle;\n    }\n\n    .dataframe tbody tr th {\n        vertical-align: top;\n    }\n\n    .dataframe thead th {\n        text-align: right;\n    }\n</style>\n<table border=\"1\" class=\"dataframe\">\n  <thead>\n    <tr style=\"text-align: right;\">\n      <th></th>\n      <th>L-Theanine</th>\n      <th>Bacopa Monnieri</th>\n      <th>Caffeine</th>\n      <th>Curcumin</th>\n      <th>Ashwagandha</th>\n      <th>Rhodiola rosea</th>\n      <th>St John's Wort</th>\n      <th>Kava</th>\n      <th>Methylphenidate</th>\n      <th>Adderall</th>\n      <th>...</th>\n      <th>Guanfacine</th>\n      <th>DMHA</th>\n      <th>LSD Microdose</th>\n      <th>CBD Oil</th>\n      <th>PRL-8-53</th>\n      <th>Agmatine</th>\n      <th>Selegiline / Deprenyl</th>\n      <th>Phenibut</th>\n      <th>Lion's Mane</th>\n      <th>Methylene blue</th>\n    </tr>\n  </thead>\n  <tbody>\n    <tr>\n      <th>0</th>\n      <td>3.0</td>\n      <td>3.0</td>\n      <td>3.0</td>\n      <td>3.0</td>\n      <td>NaN</td>\n      <td>3.0</td>\n      <td>3.0</td>\n      <td>NaN</td>\n      <td>NaN</td>\n      <td>NaN</td>\n      <td>...</td>\n      <td>NaN</td>\n      <td>NaN</td>\n      <td>NaN</td>\n      <td>NaN</td>\n      <td>NaN</td>\n      <td>NaN</td>\n      <td>NaN</td>\n      <td>3.0</td>\n      <td>NaN</td>\n      <td>NaN</td>\n    </tr>\n    <tr>\n      <th>1</th>\n      <td>6.0</td>\n      <td>NaN</td>\n      <td>6.0</td>\n      <td>NaN</td>\n      <td>7.0</td>\n      <td>NaN</td>\n      <td>NaN</td>\n      <td>NaN</td>\n      <td>NaN</td>\n      <td>NaN</td>\n      <td>...</td>\n      <td>NaN</td>\n      <td>NaN</td>\n      <td>NaN</td>\n      <td>NaN</td>\n      <td>NaN</td>\n      <td>NaN</td>\n      <td>NaN</td>\n      <td>NaN</td>\n      <td>NaN</td>\n      <td>NaN</td>\n    </tr>\n    <tr>\n      <th>2</th>\n      <td>7.0</td>\n      <td>NaN</td>\n      <td>5.0</td>\n      <td>NaN</td>\n      <td>6.0</td>\n      <td>NaN</td>\n      <td>NaN</td>\n      <td>NaN</td>\n      <td>NaN</td>\n      <td>6.0</td>\n      <td>...</td>\n      <td>NaN</td>\n      <td>NaN</td>\n      <td>7.0</td>\n      <td>NaN</td>\n      <td>NaN</td>\n      <td>NaN</td>\n      <td>NaN</td>\n      <td>NaN</td>\n      <td>NaN</td>\n      <td>NaN</td>\n    </tr>\n    <tr>\n      <th>3</th>\n      <td>NaN</td>\n      <td>NaN</td>\n      <td>NaN</td>\n      <td>NaN</td>\n      <td>NaN</td>\n      <td>NaN</td>\n      <td>NaN</td>\n      <td>NaN</td>\n      <td>3.0</td>\n      <td>7.0</td>\n      <td>...</td>\n      <td>NaN</td>\n      <td>NaN</td>\n      <td>NaN</td>\n      <td>NaN</td>\n      <td>NaN</td>\n      <td>NaN</td>\n      <td>NaN</td>\n      <td>NaN</td>\n      <td>NaN</td>\n      <td>NaN</td>\n    </tr>\n    <tr>\n      <th>4</th>\n      <td>4.0</td>\n      <td>NaN</td>\n      <td>6.0</td>\n      <td>NaN</td>\n      <td>NaN</td>\n      <td>NaN</td>\n      <td>NaN</td>\n      <td>NaN</td>\n      <td>NaN</td>\n      <td>6.0</td>\n      <td>...</td>\n      <td>NaN</td>\n      <td>NaN</td>\n      <td>NaN</td>\n      <td>NaN</td>\n      <td>NaN</td>\n      <td>NaN</td>\n      <td>NaN</td>\n      <td>NaN</td>\n      <td>NaN</td>\n      <td>NaN</td>\n    </tr>\n    <tr>\n      <th>...</th>\n      <td>...</td>\n      <td>...</td>\n      <td>...</td>\n      <td>...</td>\n      <td>...</td>\n      <td>...</td>\n      <td>...</td>\n      <td>...</td>\n      <td>...</td>\n      <td>...</td>\n      <td>...</td>\n      <td>...</td>\n      <td>...</td>\n      <td>...</td>\n      <td>...</td>\n      <td>...</td>\n      <td>...</td>\n      <td>...</td>\n      <td>...</td>\n      <td>...</td>\n      <td>...</td>\n    </tr>\n    <tr>\n      <th>375</th>\n      <td>4.0</td>\n      <td>4.0</td>\n      <td>5.0</td>\n      <td>NaN</td>\n      <td>NaN</td>\n      <td>4.0</td>\n      <td>NaN</td>\n      <td>NaN</td>\n      <td>7.0</td>\n      <td>NaN</td>\n      <td>...</td>\n      <td>NaN</td>\n      <td>NaN</td>\n      <td>7.0</td>\n      <td>5.0</td>\n      <td>NaN</td>\n      <td>NaN</td>\n      <td>NaN</td>\n      <td>NaN</td>\n      <td>6.0</td>\n      <td>NaN</td>\n    </tr>\n    <tr>\n      <th>376</th>\n      <td>NaN</td>\n      <td>NaN</td>\n      <td>4.0</td>\n      <td>NaN</td>\n      <td>NaN</td>\n      <td>NaN</td>\n      <td>NaN</td>\n      <td>NaN</td>\n      <td>NaN</td>\n      <td>NaN</td>\n      <td>...</td>\n      <td>NaN</td>\n      <td>NaN</td>\n      <td>NaN</td>\n      <td>7.0</td>\n      <td>NaN</td>\n      <td>NaN</td>\n      <td>NaN</td>\n      <td>NaN</td>\n      <td>NaN</td>\n      <td>NaN</td>\n    </tr>\n    <tr>\n      <th>377</th>\n      <td>NaN</td>\n      <td>NaN</td>\n      <td>6.0</td>\n      <td>NaN</td>\n      <td>NaN</td>\n      <td>NaN</td>\n      <td>6.0</td>\n      <td>NaN</td>\n      <td>1.0</td>\n      <td>NaN</td>\n      <td>...</td>\n      <td>NaN</td>\n      <td>NaN</td>\n      <td>7.0</td>\n      <td>NaN</td>\n      <td>NaN</td>\n      <td>NaN</td>\n      <td>NaN</td>\n      <td>5.0</td>\n      <td>NaN</td>\n      <td>NaN</td>\n    </tr>\n    <tr>\n      <th>378</th>\n      <td>7.0</td>\n      <td>5.0</td>\n      <td>6.0</td>\n      <td>3.0</td>\n      <td>5.0</td>\n      <td>5.0</td>\n      <td>NaN</td>\n      <td>5.0</td>\n      <td>6.0</td>\n      <td>NaN</td>\n      <td>...</td>\n      <td>NaN</td>\n      <td>NaN</td>\n      <td>NaN</td>\n      <td>NaN</td>\n      <td>4.0</td>\n      <td>4.0</td>\n      <td>NaN</td>\n      <td>7.0</td>\n      <td>4.0</td>\n      <td>NaN</td>\n    </tr>\n    <tr>\n      <th>379</th>\n      <td>NaN</td>\n      <td>NaN</td>\n      <td>NaN</td>\n      <td>NaN</td>\n      <td>NaN</td>\n      <td>NaN</td>\n      <td>NaN</td>\n      <td>NaN</td>\n      <td>NaN</td>\n      <td>NaN</td>\n      <td>...</td>\n      <td>NaN</td>\n      <td>NaN</td>\n      <td>NaN</td>\n      <td>NaN</td>\n      <td>NaN</td>\n      <td>NaN</td>\n      <td>NaN</td>\n      <td>NaN</td>\n      <td>NaN</td>\n      <td>NaN</td>\n    </tr>\n  </tbody>\n</table>\n<p>380 rows × 60 columns</p>\n</div>"
     },
     "execution_count": 140,
     "metadata": {},
     "output_type": "execute_result"
    }
   ],
   "source": [
    "df_1"
   ],
   "metadata": {
    "collapsed": false,
    "pycharm": {
     "name": "#%%\n"
    }
   }
  },
  {
   "cell_type": "code",
   "execution_count": 141,
   "outputs": [
    {
     "data": {
      "text/plain": "'\\n1 = Very unpleasant\\n2 = Moderately unpleasant\\n3 = Slightly unpleasant\\n4 = Neutral\\n5 = Slightly pleasant\\n6 = Moderately pleasant\\n7 = Very pleasant\\n-9 = Not answered\\n'"
     },
     "execution_count": 141,
     "metadata": {},
     "output_type": "execute_result"
    }
   ],
   "source": [
    "\"\"\"\n",
    "1 = Very unpleasant\n",
    "2 = Moderately unpleasant\n",
    "3 = Slightly unpleasant\n",
    "4 = Neutral\n",
    "5 = Slightly pleasant\n",
    "6 = Moderately pleasant\n",
    "7 = Very pleasant\n",
    "-9 = Not answered\n",
    "\"\"\""
   ],
   "metadata": {
    "collapsed": false,
    "pycharm": {
     "name": "#%%\n"
    }
   }
  },
  {
   "cell_type": "code",
   "execution_count": 142,
   "outputs": [],
   "source": [
    "import matplotlib.pyplot as plt"
   ],
   "metadata": {
    "collapsed": false,
    "pycharm": {
     "name": "#%%\n"
    }
   }
  },
  {
   "cell_type": "code",
   "execution_count": 143,
   "outputs": [],
   "source": [
    "df_ssc = pd.read_csv(\"dataset_clean_features.csv\")"
   ],
   "metadata": {
    "collapsed": false,
    "pycharm": {
     "name": "#%%\n"
    }
   }
  },
  {
   "cell_type": "code",
   "execution_count": 144,
   "outputs": [
    {
     "data": {
      "text/plain": "<BarContainer object of 11 artists>"
     },
     "execution_count": 144,
     "metadata": {},
     "output_type": "execute_result"
    },
    {
     "data": {
      "text/plain": "<Figure size 432x288 with 1 Axes>",
      "image/png": "[encoded data removed]"
     },
     "metadata": {
      "needs_background": "light"
     },
     "output_type": "display_data"
    }
   ],
   "source": [
    "import numpy as np\n",
    "ratings, counts = np.unique(df_ssc[\"rating\"], return_counts=True)\n",
    "plt.bar(x=ratings, height=counts)"
   ],
   "metadata": {
    "collapsed": false,
    "pycharm": {
     "name": "#%%\n"
    }
   }
  },
  {
   "cell_type": "code",
   "execution_count": 145,
   "outputs": [],
   "source": [
    "import numpy as np\n",
    "ratings_darkha = df_1.values.reshape(-1)\n",
    "ratings_darkha = ratings_darkha[~np.isnan(ratings_darkha)]"
   ],
   "metadata": {
    "collapsed": false,
    "pycharm": {
     "name": "#%%\n"
    }
   }
  },
  {
   "cell_type": "code",
   "execution_count": 103,
   "outputs": [
    {
     "data": {
      "text/plain": "<BarContainer object of 7 artists>"
     },
     "execution_count": 103,
     "metadata": {},
     "output_type": "execute_result"
    },
    {
     "data": {
      "text/plain": "<Figure size 432x288 with 1 Axes>",
      "image/png": "[encoded data removed]"
     },
     "metadata": {
      "needs_background": "light"
     },
     "output_type": "display_data"
    }
   ],
   "source": [
    "import numpy as np\n",
    "ratings, counts = np.unique(ratings_darkha, return_counts=True)\n",
    "plt.bar(x=ratings, height=counts)"
   ],
   "metadata": {
    "collapsed": false,
    "pycharm": {
     "name": "#%%\n"
    }
   }
  },
  {
   "cell_type": "code",
   "execution_count": 104,
   "outputs": [
    {
     "name": "stdout",
     "output_type": "stream",
     "text": [
      "[0.06598609 0.03728362 0.0587365  0.0750111  0.08329635 0.13981358\n",
      " 0.13907383 0.15372096 0.12546235 0.06465453 0.05696109]\n",
      "1.0\n"
     ]
    }
   ],
   "source": [
    "n_ssc_ratings = len(df_ssc[\"rating\"])\n",
    "_,counts = np.unique(df_ssc[\"rating\"], return_counts=True)\n",
    "ssc_hist = counts / n_ssc_ratings\n",
    "print(ssc_hist)\n",
    "print(sum(ssc_hist))"
   ],
   "metadata": {
    "collapsed": false,
    "pycharm": {
     "name": "#%%\n"
    }
   }
  },
  {
   "cell_type": "code",
   "execution_count": 105,
   "outputs": [
    {
     "name": "stdout",
     "output_type": "stream",
     "text": [
      "[0.01748422 0.0213696  0.06168043 0.3676542  0.25716367 0.1590578\n",
      " 0.11559009]\n",
      "1.0\n"
     ]
    }
   ],
   "source": [
    "_, counts = np.unique(ratings_darkha, return_counts=True)\n",
    "darkha_hist = counts / len(ratings_darkha)\n",
    "print(darkha_hist)\n",
    "print(sum(darkha_hist))"
   ],
   "metadata": {
    "collapsed": false,
    "pycharm": {
     "name": "#%%\n"
    }
   }
  },
  {
   "cell_type": "code",
   "execution_count": 106,
   "outputs": [],
   "source": [
    "#OT\n",
    "import ot\n",
    "# loss matrix\n",
    "\n",
    "M = ot.dist(np.array(range(len(darkha_hist))).reshape(-1, 1), np.array(range(len(ssc_hist))).reshape(-1, 1))\n",
    "\n",
    "M = M / M.max()\n",
    "\n",
    "T = ot.emd(darkha_hist, ssc_hist, M)"
   ],
   "metadata": {
    "collapsed": false,
    "pycharm": {
     "name": "#%%\n"
    }
   }
  },
  {
   "cell_type": "code",
   "execution_count": 107,
   "outputs": [],
   "source": [
    "converted_ratings_darkha = []\n",
    "for rating in (ratings_darkha.astype(int) - 1):\n",
    "    probas = T[rating] / sum(T[rating])\n",
    "    new_rating = np.random.choice(range(len(probas)), size=1, p=probas)[0]\n",
    "    converted_ratings_darkha.append(new_rating)"
   ],
   "metadata": {
    "collapsed": false,
    "pycharm": {
     "name": "#%%\n"
    }
   }
  },
  {
   "cell_type": "code",
   "execution_count": 108,
   "outputs": [
    {
     "data": {
      "text/plain": "(array([277., 152., 267., 321., 328., 559., 557., 657., 497., 503.]),\n array([ 0.,  1.,  2.,  3.,  4.,  5.,  6.,  7.,  8.,  9., 10.]),\n <BarContainer object of 10 artists>)"
     },
     "execution_count": 108,
     "metadata": {},
     "output_type": "execute_result"
    },
    {
     "data": {
      "text/plain": "<Figure size 432x288 with 1 Axes>",
      "image/png": "[encoded data removed]"
     },
     "metadata": {
      "needs_background": "light"
     },
     "output_type": "display_data"
    }
   ],
   "source": [
    "plt.hist(converted_ratings_darkha)"
   ],
   "metadata": {
    "collapsed": false,
    "pycharm": {
     "name": "#%%\n"
    }
   }
  },
  {
   "cell_type": "code",
   "execution_count": 109,
   "outputs": [
    {
     "data": {
      "text/plain": "(array([ 446.,  252.,  397.,  507.,  563.,  945.,  940., 1039.,  848.,\n         822.]),\n array([ 0.,  1.,  2.,  3.,  4.,  5.,  6.,  7.,  8.,  9., 10.]),\n <BarContainer object of 10 artists>)"
     },
     "execution_count": 109,
     "metadata": {},
     "output_type": "execute_result"
    },
    {
     "data": {
      "text/plain": "<Figure size 432x288 with 1 Axes>",
      "image/png": "[encoded data removed]"
     },
     "metadata": {
      "needs_background": "light"
     },
     "output_type": "display_data"
    }
   ],
   "source": [
    "plt.hist(df_ssc[\"rating\"])\n"
   ],
   "metadata": {
    "collapsed": false,
    "pycharm": {
     "name": "#%%\n"
    }
   }
  },
  {
   "cell_type": "code",
   "execution_count": 132,
   "outputs": [],
   "source": [
    "ratings_darkha_caffeine = df_1[\"Phenibut\"]\n",
    "ratings_darkha_caffeine = ratings_darkha_caffeine[~np.isnan(ratings_darkha_caffeine)]\n",
    "\n",
    "converted_ratings_darkha = []\n",
    "for rating in (ratings_darkha_caffeine.astype(int) - 1):\n",
    "    probas = T[rating] / sum(T[rating])\n",
    "    new_rating = np.random.choice(range(len(probas)), size=1, p=probas)[0]\n",
    "    converted_ratings_darkha.append(new_rating)"
   ],
   "metadata": {
    "collapsed": false,
    "pycharm": {
     "name": "#%%\n"
    }
   }
  },
  {
   "cell_type": "code",
   "execution_count": 133,
   "outputs": [
    {
     "data": {
      "text/plain": "(array([10.,  3.,  2.,  5.,  4.,  6., 18., 10., 23., 55.]),\n array([ 0.,  1.,  2.,  3.,  4.,  5.,  6.,  7.,  8.,  9., 10.]),\n <BarContainer object of 10 artists>)"
     },
     "execution_count": 133,
     "metadata": {},
     "output_type": "execute_result"
    },
    {
     "data": {
      "text/plain": "<Figure size 432x288 with 1 Axes>",
      "image/png": "[encoded data removed]"
     },
     "metadata": {
      "needs_background": "light"
     },
     "output_type": "display_data"
    }
   ],
   "source": [
    "plt.hist(converted_ratings_darkha)"
   ],
   "metadata": {
    "collapsed": false,
    "pycharm": {
     "name": "#%%\n"
    }
   }
  },
  {
   "cell_type": "code",
   "execution_count": 134,
   "outputs": [
    {
     "data": {
      "text/plain": "(array([ 4.,  5.,  5.,  5., 10., 15., 21., 38., 46., 67.]),\n array([ 0.,  1.,  2.,  3.,  4.,  5.,  6.,  7.,  8.,  9., 10.]),\n <BarContainer object of 10 artists>)"
     },
     "execution_count": 134,
     "metadata": {},
     "output_type": "execute_result"
    },
    {
     "data": {
      "text/plain": "<Figure size 432x288 with 1 Axes>",
      "image/png": "[encoded data removed]"
     },
     "metadata": {
      "needs_background": "light"
     },
     "output_type": "display_data"
    }
   ],
   "source": [
    "plt.hist(df_ssc[df_ssc[\"itemID\"] == \"Phenibut\"][\"rating\"])\n",
    "\n"
   ],
   "metadata": {
    "collapsed": false,
    "pycharm": {
     "name": "#%%\n"
    }
   }
  },
  {
   "cell_type": "code",
   "execution_count": null,
   "outputs": [],
   "source": [],
   "metadata": {
    "collapsed": false,
    "pycharm": {
     "name": "#%%\n"
    }
   }
  }
 ],
 "metadata": {
  "kernelspec": {
   "display_name": "Python 3",
   "language": "python",
   "name": "python3"
  },
  "language_info": {
   "codemirror_mode": {
    "name": "ipython",
    "version": 2
   },
   "file_extension": ".py",
   "mimetype": "text/x-python",
   "name": "python",
   "nbconvert_exporter": "python",
   "pygments_lexer": "ipython2",
   "version": "2.7.6"
  }
 },
 "nbformat": 4,
 "nbformat_minor": 0
}