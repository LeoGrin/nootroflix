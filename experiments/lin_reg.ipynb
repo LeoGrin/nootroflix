{
 "cells": [
  {
   "cell_type": "code",
   "execution_count": 3,
   "id": "928cea84",
   "metadata": {},
   "outputs": [],
   "source": [
    "import numpy as np\n",
    "import pandas as pd\n",
    "from surprise import KNNBaseline\n",
    "from sklearn.ensemble import RandomForestRegressor\n",
    "from sklearn.linear_model import LinearRegression\n",
    "from sklearn.preprocessing import OneHotEncoder, StandardScaler\n",
    "from sklearn.pipeline import Pipeline\n",
    "from sklearn.model_selection import cross_validate\n",
    "from sklearn.compose import ColumnTransformer"
   ]
  },
  {
   "cell_type": "code",
   "execution_count": 4,
   "id": "d6cacdee",
   "metadata": {},
   "outputs": [],
   "source": [
    "df_ratings = pd.read_csv(\"../data/new_df.csv\")\n",
    "df_users = pd.read_csv(\"../data/users_fixed.csv\")"
   ]
  },
  {
   "cell_type": "code",
   "execution_count": 5,
   "id": "3f080417",
   "metadata": {},
   "outputs": [],
   "source": [
    "df_users[\"userID\"] = pd.to_numeric(df_users[\"userID\"], errors=\"coerce\")"
   ]
  },
  {
   "cell_type": "code",
   "execution_count": 6,
   "id": "9839234f",
   "metadata": {},
   "outputs": [],
   "source": [
    "df = pd.merge(df_ratings, df_users, on=\"userID\")"
   ]
  },
  {
   "cell_type": "code",
   "execution_count": 15,
   "id": "58bb30a5",
   "metadata": {},
   "outputs": [],
   "source": [
    "df = df[df[\"itemID\"] == \"Ginseng\"]\n",
    "X = df[[\"age\", \"gender\", \"mood\", \"anxiety\", \"libido\", \"cognition\", \"motivation\", \"focus\", \"userID\"]]\n",
    "y = df[[\"rating\"]].to_numpy().reshape(-1)\n",
    "\n",
    "numerical_columns = [\"age\"]\n",
    "categorical_columns = [\"gender\", \"mood\", \"anxiety\", \"libido\", \"cognition\", \"motivation\", \"focus\", \"userID\"]\n",
    "ct = ColumnTransformer(\n",
    "    [(\"scaler\", StandardScaler(), numerical_columns),\n",
    "     (\"encoder\", OneHotEncoder(handle_unknown=\"ignore\"), categorical_columns)])\n",
    "\n",
    "pipe = Pipeline([('encoder', ct), ('reg', LinearRegression())])\n",
    "\n",
    "#pipe.fit(X, y)"
   ]
  },
  {
   "cell_type": "code",
   "execution_count": 6,
   "id": "02489236",
   "metadata": {},
   "outputs": [
    {
     "data": {
      "text/plain": [
       "{'fit_time': array([0.19332194, 0.1692152 , 0.18176794, 0.18714809, 0.16723919]),\n",
       " 'score_time': array([0.00835204, 0.00770283, 0.00788999, 0.00791121, 0.00809288]),\n",
       " 'test_score': array([-2.90677405, -2.92838968, -2.98526376, -2.98384783, -3.01804983])}"
      ]
     },
     "execution_count": 6,
     "metadata": {},
     "output_type": "execute_result"
    }
   ],
   "source": [
    "cross_validate(pipe, X, y, scoring=\"neg_root_mean_squared_error\")"
   ]
  },
  {
   "cell_type": "code",
   "execution_count": 16,
   "id": "0a460eb6",
   "metadata": {},
   "outputs": [
    {
     "data": {
      "text/plain": [
       "Pipeline(steps=[('encoder',\n",
       "                 ColumnTransformer(transformers=[('scaler', StandardScaler(),\n",
       "                                                  ['age']),\n",
       "                                                 ('encoder',\n",
       "                                                  OneHotEncoder(handle_unknown='ignore'),\n",
       "                                                  ['gender', 'mood', 'anxiety',\n",
       "                                                   'libido', 'cognition',\n",
       "                                                   'motivation', 'focus',\n",
       "                                                   'userID'])])),\n",
       "                ('reg', LinearRegression())])"
      ]
     },
     "execution_count": 16,
     "metadata": {},
     "output_type": "execute_result"
    }
   ],
   "source": [
    "pipe.fit(X, y)"
   ]
  },
  {
   "cell_type": "code",
   "execution_count": 19,
   "id": "af987bfd",
   "metadata": {},
   "outputs": [
    {
     "data": {
      "text/plain": [
       "array([-6.95520250e-10,  6.45586316e-02,  1.83272977e-01,  6.45586337e-02,\n",
       "       -3.12390242e-01, -6.64713189e-01,  3.71014456e-01,  2.93698733e-01,\n",
       "       -2.07257482e-01, -1.62442416e-01,  3.69699899e-01, -6.24902097e-02,\n",
       "       -6.24902131e-02, -6.24902127e-02,  1.87470636e-01, -1.66640568e-01,\n",
       "        8.33202827e-02,  8.33202854e-02, -3.38720463e-01,  3.63246545e-02,\n",
       "        3.02395808e-01, -2.14027093e-01,  2.40049123e-01, -2.60220304e-02,\n",
       "        1.01424914e+00,  1.42491396e-02, -6.90538303e-01,  3.01424914e+00,\n",
       "        2.23214597e+00,  7.64288287e-01, -2.69053830e+00,  1.48210683e+00,\n",
       "       -1.63913700e+00, -3.51789317e+00,  1.41237162e-01,  2.76428829e+00,\n",
       "       -2.23571171e+00,  1.74817798e+00, -5.01782869e-01,  3.23214598e+00,\n",
       "       -8.26125972e-01, -1.46605523e+00,  5.84337047e+00, -2.76785402e+00,\n",
       "        5.59422549e-01, -4.47989007e-01, -2.90843514e+00, -8.63620074e-01,\n",
       "        4.68450681e+00, -3.23571171e+00,  1.05906420e+00,  7.48177984e-01,\n",
       "        6.55942255e+00,  1.76428829e+00,  5.01424914e+00,  4.82872069e+00,\n",
       "       -1.17127931e+00, -1.70664861e+00, -2.51537596e+00,  2.28032030e+00,\n",
       "        1.64557394e+00, -2.11358093e+00,  2.13637993e+00,  1.52490229e-01,\n",
       "       -1.76785402e+00, -8.26125971e-01,  3.48210683e+00,  2.87942449e+00,\n",
       "       -8.26125972e-01, -1.53016304e+00, -1.69053830e+00,  4.82106828e-01,\n",
       "       -3.13589428e-01, -8.26125972e-01, -2.98575086e+00,  2.09479185e+00,\n",
       "       -2.23375687e+00, -3.57984897e+00, -2.98575086e+00, -8.26125972e-01,\n",
       "        1.82549371e+00, -2.00186116e+00, -2.02392250e+00,  2.74817798e+00,\n",
       "        5.59422549e-01, -2.98575086e+00, -2.69053830e+00, -3.50178287e+00,\n",
       "        1.09156486e+00,  1.42491396e-02, -3.19089665e+00, -3.51789317e+00,\n",
       "       -3.23571171e+00,  2.48210683e+00, -1.17127931e+00,  4.88641907e+00,\n",
       "       -1.23571171e+00, -1.74506295e-01, -2.69053830e+00, -2.67486464e+00,\n",
       "       -2.35711713e-01, -3.50178287e+00, -1.98575086e+00,  3.01424914e+00,\n",
       "        3.55942255e+00,  1.80910335e+00, -2.86362007e+00,  2.80910335e+00,\n",
       "       -1.76785402e+00,  1.17387403e+00, -1.13580927e-01, -1.76785402e+00,\n",
       "        4.01424914e+00, -3.44057745e+00, -2.17127931e+00,  6.45573942e-01,\n",
       "       -3.44057745e+00,  3.49821713e+00, -1.69053830e+00,  2.01424914e+00,\n",
       "        8.25493705e-01, -1.23571171e+00, -3.76785402e+00,  1.57553285e+00,\n",
       "       -2.51789317e+00, -3.11358093e+00, -2.98575086e+00,  1.42491395e-02,\n",
       "       -2.59754892e+00,  4.48210683e+00,  4.01424914e+00, -2.48216553e+00,\n",
       "        8.25493705e-01,  1.42491396e-02,  4.30946170e+00,  1.76428829e+00,\n",
       "       -2.37965208e+00, -8.26125972e-01, -2.98575086e+00, -2.98575086e+00,\n",
       "       -3.79652083e-01, -8.26125972e-01,  3.13637993e+00, -2.86362007e+00,\n",
       "        1.05906420e+00,  2.01424914e+00, -1.76785403e+00, -1.44057745e+00,\n",
       "       -3.50178287e+00,  4.60909485e+00,  3.09479185e+00, -9.85750860e-01,\n",
       "        3.29335139e+00,  3.03594431e-02,  1.76428829e+00, -3.19089665e+00,\n",
       "        4.80910335e+00, -7.67854025e-01, -2.71967970e+00,  2.87030877e+00,\n",
       "       -1.98575086e+00,  1.74817798e+00,  3.55942255e+00,  5.59422549e-01,\n",
       "       -7.19679704e-01,  4.74742760e+00, -2.91646015e+00, -1.06553233e+00,\n",
       "        1.04339054e+00,  2.40245108e+00,  3.45681851e+00,  3.01424914e+00,\n",
       "       -3.44057745e+00,  1.76770473e+00,  2.21664913e+00, -1.90520815e+00,\n",
       "        4.20225419e+00, -1.51789317e+00, -1.90520815e+00,  1.09156486e+00,\n",
       "       -3.44057745e+00,  1.23214598e+00, -9.40935796e-01, -3.70664861e+00,\n",
       "       -3.76785403e+00,  8.28720690e-01,  3.84483099e+00, -1.31377781e+00,\n",
       "        3.05906420e+00, -2.98575086e+00, -3.76785402e+00, -3.31377781e+00,\n",
       "        2.48210683e+00, -1.44057745e+00,  4.82106828e-01, -7.06648607e-01,\n",
       "        2.71554040e+00, -9.85750860e-01, -1.63913700e+00, -2.86362007e+00,\n",
       "        3.44752699e-01, -1.07608682e+00,  7.48177984e-01, -2.76785402e+00,\n",
       "       -1.98575086e+00, -1.07608682e+00, -3.04325979e+00,  2.30946170e+00,\n",
       "        1.55942255e+00, -3.23229527e+00, -1.68395206e+00,  1.76428829e+00,\n",
       "        2.01424914e+00, -1.40308335e+00, -1.63913700e+00,  1.37950279e+00,\n",
       "        1.30946170e+00,  2.55942255e+00,  7.03035944e+00, -1.29691230e-01,\n",
       "        5.00180246e+00, -8.86568370e-01,  5.09479185e+00,  1.42491396e-02,\n",
       "        1.03035944e+00,  2.74817798e+00,  1.52490229e-01, -1.29322064e+00,\n",
       "        3.94034986e+00, -3.19089665e+00, -1.71967970e+00, -2.23571171e+00,\n",
       "        2.32145975e-01, -3.54426058e-01, -2.90843514e+00,  1.82872069e+00,\n",
       "       -2.11358093e+00, -5.17893172e-01,  3.09461697e-01,  3.30946170e+00,\n",
       "       -1.90896648e-01,  6.90389006e-01,  2.55942255e+00,  2.23214598e+00,\n",
       "       -1.69053830e+00, -1.23571171e+00, -3.44057745e+00,  1.74817798e+00,\n",
       "       -2.02392250e+00, -2.98575086e+00,  2.51783447e+00,  4.82872069e+00,\n",
       "       -1.51789317e+00, -2.35708126e+00,  2.01349876e+00,  3.76428829e+00,\n",
       "       -1.86362007e+00, -3.78396433e+00])"
      ]
     },
     "execution_count": 19,
     "metadata": {},
     "output_type": "execute_result"
    }
   ],
   "source": [
    "pipe[\"reg\"].coef_"
   ]
  },
  {
   "cell_type": "code",
   "execution_count": 15,
   "id": "57b32813",
   "metadata": {},
   "outputs": [
    {
     "ename": "AttributeError",
     "evalue": "'LinearRegression' object has no attribute 'coef'",
     "output_type": "error",
     "traceback": [
      "\u001b[0;31m---------------------------------------------------------------------------\u001b[0m",
      "\u001b[0;31mAttributeError\u001b[0m                            Traceback (most recent call last)",
      "Input \u001b[0;32mIn [15]\u001b[0m, in \u001b[0;36m<module>\u001b[0;34m\u001b[0m\n\u001b[0;32m----> 1\u001b[0m \u001b[43mpipe\u001b[49m\u001b[43m[\u001b[49m\u001b[38;5;124;43m\"\u001b[39;49m\u001b[38;5;124;43mreg\u001b[39;49m\u001b[38;5;124;43m\"\u001b[39;49m\u001b[43m]\u001b[49m\u001b[38;5;241;43m.\u001b[39;49m\u001b[43mcoef\u001b[49m\n",
      "\u001b[0;31mAttributeError\u001b[0m: 'LinearRegression' object has no attribute 'coef'"
     ]
    }
   ],
   "source": [
    "pipe[\"reg\"].coef"
   ]
  },
  {
   "cell_type": "code",
   "execution_count": 35,
   "id": "0df43bf1",
   "metadata": {},
   "outputs": [
    {
     "data": {
      "text/plain": [
       "{'fit_time': array([0.05318618, 0.02622485, 0.02079511, 0.02066493, 0.02061391]),\n",
       " 'score_time': array([0.01059985, 0.00620103, 0.00604391, 0.00610209, 0.00604892]),\n",
       " 'test_score': array([-3.12178076, -3.181965  , -3.20067359, -3.18234548, -3.21047638])}"
      ]
     },
     "execution_count": 35,
     "metadata": {},
     "output_type": "execute_result"
    }
   ],
   "source": [
    "from sklearn.dummy import DummyRegressor\n",
    "pipe_dumb = Pipeline([('encoder', ct), ('reg', DummyRegressor())])\n",
    "cross_validate(pipe_dumb, X, y, scoring=\"neg_root_mean_squared_error\")\n"
   ]
  },
  {
   "cell_type": "code",
   "execution_count": null,
   "id": "e9cac9a9",
   "metadata": {},
   "outputs": [],
   "source": []
  }
 ],
 "metadata": {
  "kernelspec": {
   "display_name": "Python 3",
   "language": "python",
   "name": "python3"
  },
  "language_info": {
   "codemirror_mode": {
    "name": "ipython",
    "version": 3
   },
   "file_extension": ".py",
   "mimetype": "text/x-python",
   "name": "python",
   "nbconvert_exporter": "python",
   "pygments_lexer": "ipython3",
   "version": "3.8.12"
  }
 },
 "nbformat": 4,
 "nbformat_minor": 5
}
