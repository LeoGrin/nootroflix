{
 "cells": [
  {
   "cell_type": "code",
   "execution_count": 20,
   "id": "b4bdb8ef",
   "metadata": {},
   "outputs": [],
   "source": [
    "import numpy as np\n",
    "import pandas as pd\n",
    "from surprise import KNNBaseline\n",
    "from sklearn.ensemble import RandomForestRegressor\n",
    "from sklearn.linear_model import LinearRegression\n",
    "from sklearn.preprocessing import OneHotEncoder, StandardScaler\n",
    "from sklearn.pipeline import Pipeline\n",
    "from sklearn.model_selection import cross_validate\n",
    "from sklearn.compose import ColumnTransformer"
   ]
  },
  {
   "cell_type": "code",
   "execution_count": 6,
   "id": "c22fc05f",
   "metadata": {},
   "outputs": [],
   "source": [
    "df_ratings = pd.read_csv(\"../data/new_df.csv\")\n",
    "df_users = pd.read_csv(\"../data/users_fixed.csv\")"
   ]
  },
  {
   "cell_type": "code",
   "execution_count": 7,
   "id": "caeedc27",
   "metadata": {},
   "outputs": [],
   "source": [
    "df_users[\"userID\"] = pd.to_numeric(df_users[\"userID\"], errors=\"coerce\")"
   ]
  },
  {
   "cell_type": "code",
   "execution_count": 8,
   "id": "45863a53",
   "metadata": {},
   "outputs": [],
   "source": [
    "df = pd.merge(df_ratings, df_users, on=\"userID\")"
   ]
  },
  {
   "cell_type": "code",
   "execution_count": 9,
   "id": "c8c11b6b",
   "metadata": {},
   "outputs": [],
   "source": [
    "model = KNNBaseline(**{'verbose': False, 'k': 100, 'min_k': 5, 'sim_options': {'name': 'msd', 'user_based': False}})\n"
   ]
  },
  {
   "cell_type": "code",
   "execution_count": 30,
   "id": "e76c3350",
   "metadata": {},
   "outputs": [],
   "source": [
    "X = df[[\"age\", \"gender\", \"mood\", \"anxiety\", \"libido\", \"cognition\", \"motivation\", \"focus\"]]\n",
    "y = df[[\"rating\"]].to_numpy().reshape(-1)\n",
    "\n",
    "numerical_columns = [\"age\"]\n",
    "categorical_columns = [\"gender\", \"mood\", \"anxiety\", \"libido\", \"cognition\", \"motivation\", \"focus\"]\n",
    "ct = ColumnTransformer(\n",
    "    [(\"scaler\", StandardScaler(), numerical_columns),\n",
    "     (\"encoder\", OneHotEncoder(handle_unknown=\"ignore\"), categorical_columns)])\n",
    "\n",
    "pipe = Pipeline([('encoder', ct), ('reg', LinearRegression())])\n",
    "\n",
    "#pipe.fit(X, y)"
   ]
  },
  {
   "cell_type": "code",
   "execution_count": 31,
   "id": "646fc292",
   "metadata": {},
   "outputs": [
    {
     "data": {
      "text/plain": [
       "{'fit_time': array([0.13904524, 0.10308599, 0.11220312, 0.10118914, 0.10502315]),\n",
       " 'score_time': array([0.00386262, 0.00265312, 0.00276494, 0.00270796, 0.00256586]),\n",
       " 'test_score': array([-2.86087617, -2.96851162, -3.04360486, -3.0201797 , -3.05101399])}"
      ]
     },
     "execution_count": 31,
     "metadata": {},
     "output_type": "execute_result"
    }
   ],
   "source": [
    "cross_validate(pipe, X, y, scoring=\"neg_root_mean_squared_error\")"
   ]
  },
  {
   "cell_type": "code",
   "execution_count": 32,
   "id": "c6e0b1b9",
   "metadata": {},
   "outputs": [
    {
     "data": {
      "text/plain": [
       "{'fit_time': array([0.01813912, 0.01352882, 0.01020098, 0.00820208, 0.00683475]),\n",
       " 'score_time': array([0.00503778, 0.00477219, 0.00345707, 0.00276518, 0.00232601]),\n",
       " 'test_score': array([-3.12178076, -3.181965  , -3.20067359, -3.18234548, -3.21047638])}"
      ]
     },
     "execution_count": 32,
     "metadata": {},
     "output_type": "execute_result"
    }
   ],
   "source": [
    "from sklearn.dummy import DummyRegressor\n",
    "pipe_dumb = Pipeline([('encoder', ct), ('reg', DummyRegressor())])\n",
    "cross_validate(pipe_dumb, X, y, scoring=\"neg_root_mean_squared_error\")\n"
   ]
  },
  {
   "cell_type": "code",
   "execution_count": null,
   "id": "244fa189",
   "metadata": {},
   "outputs": [],
   "source": []
  }
 ],
 "metadata": {
  "kernelspec": {
   "display_name": "Python 3",
   "language": "python",
   "name": "python3"
  },
  "language_info": {
   "codemirror_mode": {
    "name": "ipython",
    "version": 3
   },
   "file_extension": ".py",
   "mimetype": "text/x-python",
   "name": "python",
   "nbconvert_exporter": "python",
   "pygments_lexer": "ipython3",
   "version": "3.7.0"
  }
 },
 "nbformat": 4,
 "nbformat_minor": 5
}
