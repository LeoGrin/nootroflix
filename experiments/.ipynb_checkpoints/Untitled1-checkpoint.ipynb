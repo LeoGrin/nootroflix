{
 "cells": [
  {
   "cell_type": "code",
   "execution_count": null,
   "id": "f62c0576",
   "metadata": {},
   "outputs": [],
   "source": [
    "import numpy as np\n",
    "import pandas as pd\n",
    "from surprise import KNNBaseline, accuracy\n",
    "from surprise import BaselineOnly\n",
    "from sklearn.ensemble import RandomForestRegressor\n",
    "from sklearn.linear_model import LinearRegression\n",
    "from sklearn.preprocessing import OneHotEncoder, StandardScaler\n",
    "from sklearn.pipeline import Pipeline\n",
    "from sklearn.model_selection import cross_validate\n",
    "from sklearn.compose import ColumnTransformer\n",
    "from surprise.model_selection.validation import cross_validate\n",
    "from surprise.model_selection.split import KFold\n",
    "from surprise.model_selection import GridSearchCV\n",
    "from surprise import Reader, Dataset\n",
    "from sklearn.metrics import mean_squared_error, mean_absolute_error\n"
   ]
  },
  {
   "cell_type": "code",
   "execution_count": 70,
   "id": "da382c92",
   "metadata": {},
   "outputs": [],
   "source": [
    "df_ratings = pd.read_csv(\"../data/total_df.csv\")\n",
    "df_users = pd.read_csv(\"../data/users_fixed.csv\")"
   ]
  },
  {
   "cell_type": "code",
   "execution_count": 72,
   "id": "bdbbcfc6",
   "metadata": {},
   "outputs": [],
   "source": [
    "avalaible_nootropics = np.unique(df_ratings[\"itemID\"]) #we want to ignore nootropics that are not in the df\n",
    "avalaible_nootropics = [nootropic for nootropic in avalaible_nootropics if len(df_ratings[df_ratings[\"itemID\"] == nootropic]) > 40]\n",
    "df_ratings = df_ratings[np.isin(df_ratings[\"itemID\"], avalaible_nootropics)]\n"
   ]
  },
  {
   "cell_type": "code",
   "execution_count": 52,
   "id": "ac63c512",
   "metadata": {},
   "outputs": [],
   "source": [
    "def f(row):\n",
    "    if row[\"issue\"] != \"None / Unsure\":\n",
    "        if row[\"rating\"] == 0:\n",
    "            return -3\n",
    "    else:\n",
    "        if row[\"rating\"] == 0:\n",
    "            return -1\n",
    "    return row[\"rating\"]\n",
    "\n",
    "def f2(row):\n",
    "    if row[\"rating\"] == 0:\n",
    "            return -1\n",
    "    return row[\"rating\"]\n",
    "    \n",
    "        \n",
    "for i, row in df_ratings.iterrows():\n",
    "    df_ratings.loc[i, \"rating\"] = f(row)\n",
    "    \n"
   ]
  },
  {
   "cell_type": "code",
   "execution_count": 76,
   "id": "4a1fa9c2",
   "metadata": {},
   "outputs": [],
   "source": [
    "final_model = KNNBaseline(**{'verbose': False, 'k': 100, 'min_k': 5, \n",
    "                             'sim_options': {'name': 'msd', 'user_based': False},\n",
    "                          \"bsl_options\" :{'method': 'sgd', \n",
    "                                        'n_epochs': 100,\n",
    "                                        'reg': 0.002}})\n",
    "#final_model = BaselineOnly(bsl_options={\"method\":\"sgd\"})\n"
   ]
  },
  {
   "cell_type": "code",
   "execution_count": 77,
   "id": "e140a5ca",
   "metadata": {},
   "outputs": [],
   "source": [
    "reader = Reader(rating_scale=(0, 10))\n",
    "\n",
    "# The columns must correspond to user id, item id and ratings (in that order).\n",
    "new_trainset = Dataset.load_from_df(df_ratings, reader)"
   ]
  },
  {
   "cell_type": "code",
   "execution_count": 101,
   "id": "b99aca4c",
   "metadata": {},
   "outputs": [],
   "source": [
    "params_dic = {\"verbose\":[False], \"bsl_options\" :{'method': ['als', 'sgd'], \n",
    "                                                 'n_epochs': [10, 20, 50, 100],\n",
    "                                                 'reg': [0, 0.02, 0.1],\n",
    "                                                \"learning_rate\": [0.001, 0.005, 0.01]}}\n",
    "\n",
    "knn_params_dic = {\"verbose\":[False], \n",
    "                  'k': [100], \n",
    "                  'min_k': [5], \n",
    "                  'sim_options': {'name': ['msd', \"pearson_baseline\"], 'user_based': [False, True]},\n",
    "                  \"bsl_options\" :{'method': ['sgd'], \n",
    "                                'n_epochs': [100],\n",
    "                                 'reg': [0, 0.02, 0.1]}}"
   ]
  },
  {
   "cell_type": "code",
   "execution_count": 102,
   "id": "f3d5d60b",
   "metadata": {},
   "outputs": [],
   "source": [
    "grid = GridSearchCV(KNNBaseline, knn_params_dic, measures=['rmse', 'mae', \"fcp\"], cv=3)"
   ]
  },
  {
   "cell_type": "code",
   "execution_count": 103,
   "id": "fce739e3",
   "metadata": {},
   "outputs": [],
   "source": [
    "grid.fit(new_trainset)"
   ]
  },
  {
   "cell_type": "code",
   "execution_count": 104,
   "id": "c53a6e76",
   "metadata": {},
   "outputs": [
    {
     "data": {
      "text/plain": [
       "{'rmse': {'verbose': False,\n",
       "  'k': 100,\n",
       "  'min_k': 5,\n",
       "  'sim_options': {'name': 'pearson_baseline', 'user_based': True},\n",
       "  'bsl_options': {'method': 'sgd', 'n_epochs': 100, 'reg': 0.1}},\n",
       " 'mae': {'verbose': False,\n",
       "  'k': 100,\n",
       "  'min_k': 5,\n",
       "  'sim_options': {'name': 'msd', 'user_based': False},\n",
       "  'bsl_options': {'method': 'sgd', 'n_epochs': 100, 'reg': 0}},\n",
       " 'fcp': {'verbose': False,\n",
       "  'k': 100,\n",
       "  'min_k': 5,\n",
       "  'sim_options': {'name': 'pearson_baseline', 'user_based': True},\n",
       "  'bsl_options': {'method': 'sgd', 'n_epochs': 100, 'reg': 0.02}}}"
      ]
     },
     "execution_count": 104,
     "metadata": {},
     "output_type": "execute_result"
    }
   ],
   "source": [
    "grid.best_params"
   ]
  },
  {
   "cell_type": "code",
   "execution_count": 100,
   "id": "45ab9b67",
   "metadata": {},
   "outputs": [
    {
     "data": {
      "text/plain": [
       "{'rmse': 2.455543943929426,\n",
       " 'mae': 1.9153149644467409,\n",
       " 'fcp': 0.6049430593763105}"
      ]
     },
     "execution_count": 100,
     "metadata": {},
     "output_type": "execute_result"
    }
   ],
   "source": [
    "grid.best_score"
   ]
  },
  {
   "cell_type": "code",
   "execution_count": 75,
   "id": "4013d37d",
   "metadata": {},
   "outputs": [
    {
     "name": "stdout",
     "output_type": "stream",
     "text": [
      "2.4419146210751093\n",
      "1.8992345085265119\n",
      "0.5840285915133409\n",
      "{'test_rmse': array([2.4576857 , 2.50718708, 2.40659158, 2.4652947 , 2.37281405]), 'test_mae': array([1.91544607, 1.94648298, 1.87868584, 1.91613483, 1.83942282]), 'test_fcp': array([0.58801761, 0.58818417, 0.60130303, 0.57234044, 0.5702977 ]), 'fit_time': (0.15184688568115234, 0.14649391174316406, 0.1557629108428955, 0.2044532299041748, 0.14846014976501465), 'test_time': (0.10621023178100586, 0.11166524887084961, 0.1110830307006836, 0.11615633964538574, 0.1062779426574707)}\n"
     ]
    }
   ],
   "source": [
    "res = cross_validate(final_model, new_trainset, measures=[\"rmse\", \"mae\", \"fcp\"])\n",
    "print(np.mean(res[\"test_rmse\"]))\n",
    "print(np.mean(res[\"test_mae\"]))\n",
    "print(np.mean(res[\"test_fcp\"]))\n",
    "print(res)"
   ]
  },
  {
   "cell_type": "code",
   "execution_count": 78,
   "id": "f2a97fe6",
   "metadata": {},
   "outputs": [
    {
     "name": "stdout",
     "output_type": "stream",
     "text": [
      "2.445738454728633\n",
      "1.9010146151319982\n",
      "0.5861893264896646\n",
      "{'test_rmse': array([2.40247625, 2.4640791 , 2.45771417, 2.45001427, 2.45440848]), 'test_mae': array([1.85498009, 1.91510007, 1.91765175, 1.90554702, 1.91179415]), 'test_fcp': array([0.60360608, 0.57632398, 0.56974056, 0.59788485, 0.58339116]), 'fit_time': (0.15703082084655762, 0.1478278636932373, 0.14669013023376465, 0.14349007606506348, 0.14591693878173828), 'test_time': (0.10558724403381348, 0.10519623756408691, 0.1049349308013916, 0.11634111404418945, 0.10721778869628906)}\n"
     ]
    }
   ],
   "source": [
    "res = cross_validate(final_model, new_trainset, measures=[\"rmse\", \"mae\", \"fcp\"])\n",
    "print(np.mean(res[\"test_rmse\"]))\n",
    "print(np.mean(res[\"test_mae\"]))\n",
    "print(np.mean(res[\"test_fcp\"]))\n",
    "print(res)"
   ]
  },
  {
   "cell_type": "code",
   "execution_count": 55,
   "id": "098f70dc",
   "metadata": {},
   "outputs": [
    {
     "name": "stdout",
     "output_type": "stream",
     "text": [
      "########\n",
      "########\n",
      "########\n",
      "########\n",
      "########\n",
      "2.516999638562034\n",
      "1.9078746384083956\n"
     ]
    }
   ],
   "source": [
    "cv = KFold()\n",
    "rmse = []\n",
    "mae = []\n",
    "for train, test in cv.split(new_trainset):\n",
    "    final_model.fit(train)\n",
    "    prediction = lambda a: final_model.predict(uid=a[0], iid=a[1]).est\n",
    "    prediction_fixed = lambda row: 0 if (prediction(row) <=0) else prediction(row)\n",
    "    y = [a[2] for a in test]\n",
    "    y = list(map(lambda x: 0 if x<=0 else x, y))\n",
    "    y_pred = [prediction_fixed(a) for a in test]\n",
    "    print(\"########\")\n",
    "    rmse.append(mean_squared_error(y, y_pred, squared=False))\n",
    "    mae.append(mean_absolute_error(y, y_pred))\n",
    "print(np.mean(rmse))\n",
    "print(np.mean(mae))"
   ]
  },
  {
   "cell_type": "code",
   "execution_count": 49,
   "id": "a9603329",
   "metadata": {},
   "outputs": [
    {
     "name": "stdout",
     "output_type": "stream",
     "text": [
      "########\n",
      "########\n",
      "########\n",
      "########\n",
      "########\n",
      "2.503880337278288\n",
      "1.9019261251306006\n"
     ]
    }
   ],
   "source": [
    "cv = KFold()\n",
    "rmse = []\n",
    "mae = []\n",
    "for train, test in cv.split(new_trainset):\n",
    "    final_model.fit(train)\n",
    "    prediction = lambda a: final_model.predict(uid=a[0], iid=a[1]).est\n",
    "    prediction_fixed = lambda row: 0 if (prediction(row) <=0) else prediction(row)\n",
    "    y = [a[2] for a in test]\n",
    "    y = list(map(lambda x: 0 if x<=0 else x, y))\n",
    "    y_pred = [prediction_fixed(a) for a in test]\n",
    "    print(\"########\")\n",
    "    rmse.append(mean_squared_error(y, y_pred, squared=False))\n",
    "    mae.append(mean_absolute_error(y, y_pred))\n",
    "print(np.mean(rmse))\n",
    "print(np.mean(mae))\n"
   ]
  },
  {
   "cell_type": "code",
   "execution_count": 20,
   "id": "470c6df1",
   "metadata": {},
   "outputs": [
    {
     "ename": "TypeError",
     "evalue": "'KFold' object is not iterable",
     "output_type": "error",
     "traceback": [
      "\u001b[0;31m---------------------------------------------------------------------------\u001b[0m",
      "\u001b[0;31mTypeError\u001b[0m                                 Traceback (most recent call last)",
      "Input \u001b[0;32mIn [20]\u001b[0m, in \u001b[0;36m<module>\u001b[0;34m\u001b[0m\n\u001b[0;32m----> 1\u001b[0m \u001b[38;5;28;01mfor\u001b[39;00m i \u001b[38;5;129;01min\u001b[39;00m cv:\n\u001b[1;32m      2\u001b[0m     \u001b[38;5;28mprint\u001b[39m(i)\n",
      "\u001b[0;31mTypeError\u001b[0m: 'KFold' object is not iterable"
     ]
    }
   ],
   "source": []
  },
  {
   "cell_type": "code",
   "execution_count": null,
   "id": "83c3a495",
   "metadata": {},
   "outputs": [],
   "source": []
  }
 ],
 "metadata": {
  "kernelspec": {
   "display_name": "Python 3",
   "language": "python",
   "name": "python3"
  },
  "language_info": {
   "codemirror_mode": {
    "name": "ipython",
    "version": 3
   },
   "file_extension": ".py",
   "mimetype": "text/x-python",
   "name": "python",
   "nbconvert_exporter": "python",
   "pygments_lexer": "ipython3",
   "version": "3.8.12"
  }
 },
 "nbformat": 4,
 "nbformat_minor": 5
}
