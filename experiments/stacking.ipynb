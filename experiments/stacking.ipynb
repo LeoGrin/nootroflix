{
 "cells": [
  {
   "cell_type": "code",
   "execution_count": 134,
   "metadata": {
    "collapsed": true
   },
   "outputs": [],
   "source": [
    "import sklearn.experimental.enable_hist_gradient_boosting\n",
    "from sklearn.dummy import DummyRegressor\n",
    "from sklearn.ensemble import RandomForestRegressor, HistGradientBoostingClassifier, GradientBoostingRegressor\n",
    "import pandas as pd\n",
    "from sklearn.model_selection import cross_validate, train_test_split\n",
    "import numpy as np\n",
    "from sklearn.compose import ColumnTransformer\n",
    "from sklearn.pipeline import Pipeline\n",
    "from sklearn.preprocessing import OneHotEncoder, StandardScaler\n",
    "from sklearn.metrics import mean_squared_error, mean_absolute_error\n",
    "from sklearn import svm\n",
    "\n",
    "from surprise import NormalPredictor, SVD, NMF, SlopeOne, CoClustering, KNNBasic, KNNWithZScore, KNNWithMeans, KNNBaseline, SVDpp\n",
    "from surprise import Dataset\n",
    "from surprise import Reader\n",
    "#from surprise.model_selection import cross_validate, RandomizedSearchCV"
   ]
  },
  {
   "cell_type": "code",
   "execution_count": 165,
   "outputs": [],
   "source": [
    "df = pd.read_csv('dataset_clean_features.csv')"
   ],
   "metadata": {
    "collapsed": false,
    "pycharm": {
     "name": "#%%\n"
    }
   }
  },
  {
   "cell_type": "code",
   "execution_count": 166,
   "outputs": [],
   "source": [
    "prop_val = 0.2\n",
    "indices = np.array(list(range(len(df))))\n",
    "np.random.shuffle(indices)\n",
    "train_indices, val_indices, test_indices = indices[:int(0.5 * len(indices))],  indices[int(0.5 * len(indices)):int((0.5 + prop_val) * len(indices))], indices[int((0.5 + prop_val) * len(indices)):]\n",
    "\n",
    "ct = ColumnTransformer(\n",
    "    [(\"categorical\", OneHotEncoder(sparse=False), ['itemID', \"userID\", 'MentalHealthAnxiety', \"Age\", 'MentalHealthDepression', 'MentalHealthADHD', 'Sex'])])\n",
    "\n",
    "X = ct.fit_transform(df.drop([\"CountryofResidence\", \"rating\", ], axis=1))\n",
    "\n",
    "y = df[\"rating\"]\n",
    "\n",
    "X_train, X_test, X_val, y_train, y_test, y_val = X[train_indices], \\\n",
    "                                                 X[test_indices], \\\n",
    "                                                 X[val_indices], \\\n",
    "                                                 y[train_indices], \\\n",
    "                                                 y[test_indices], \\\n",
    "                                                 y[val_indices]\n",
    "\n",
    "df_surprise_train = df[[\"userID\", \"itemID\", \"rating\"]].iloc[train_indices]\n",
    "df_surprise_test = df[[\"userID\", \"itemID\", \"rating\"]].iloc[test_indices]\n",
    "df_surprise_val = df[[\"userID\", \"itemID\", \"rating\"]].iloc[val_indices]\n",
    "df_surprise_train_val = df[[\"userID\", \"itemID\", \"rating\"]].iloc[list(train_indices) + list(val_indices)]"
   ],
   "metadata": {
    "collapsed": false,
    "pycharm": {
     "name": "#%%\n"
    }
   }
  },
  {
   "cell_type": "code",
   "execution_count": 167,
   "outputs": [],
   "source": [
    "suprise_model_1 = KNNBaseline(k=60, min_k=2, sim_options={'name': 'pearson_baseline', 'user_based': True})\n",
    "suprise_model_2 = SVD(**{'n_factors': 50, 'n_epochs': 20, 'lr_all': 0.005, 'reg_all': 0.1})\n",
    "\n",
    "\n",
    "# A reader is still needed but only the rating_scale param is requiered.\n",
    "reader = Reader(rating_scale=(0, 10))\n",
    "\n",
    "# The columns must correspond to user id, item id and ratings (in that order).\n",
    "new_trainset = Dataset.load_from_df(df_surprise_train, reader).build_full_trainset()\n",
    "new_trainset_val = Dataset.load_from_df(df_surprise_train_val, reader).build_full_trainset()"
   ],
   "metadata": {
    "collapsed": false,
    "pycharm": {
     "name": "#%%\n"
    }
   }
  },
  {
   "cell_type": "code",
   "execution_count": 168,
   "outputs": [],
   "source": [
    "res_df = pd.DataFrame()\n",
    "n = 20\n"
   ],
   "metadata": {
    "collapsed": false,
    "pycharm": {
     "name": "#%%\n"
    }
   }
  },
  {
   "cell_type": "code",
   "execution_count": 169,
   "outputs": [
    {
     "name": "stdout",
     "output_type": "stream",
     "text": [
      "Estimating biases using als...\n",
      "Computing the pearson_baseline similarity matrix...\n",
      "Done computing similarity matrix.\n",
      "Estimating biases using als...\n",
      "Computing the pearson_baseline similarity matrix...\n",
      "Done computing similarity matrix.\n",
      "Estimating biases using als...\n",
      "Computing the pearson_baseline similarity matrix...\n",
      "Done computing similarity matrix.\n",
      "Estimating biases using als...\n",
      "Computing the pearson_baseline similarity matrix...\n",
      "Done computing similarity matrix.\n",
      "Estimating biases using als...\n",
      "Computing the pearson_baseline similarity matrix...\n",
      "Done computing similarity matrix.\n",
      "Estimating biases using als...\n",
      "Computing the pearson_baseline similarity matrix...\n",
      "Done computing similarity matrix.\n",
      "Estimating biases using als...\n",
      "Computing the pearson_baseline similarity matrix...\n",
      "Done computing similarity matrix.\n",
      "Estimating biases using als...\n",
      "Computing the pearson_baseline similarity matrix...\n",
      "Done computing similarity matrix.\n",
      "Estimating biases using als...\n",
      "Computing the pearson_baseline similarity matrix...\n",
      "Done computing similarity matrix.\n",
      "Estimating biases using als...\n",
      "Computing the pearson_baseline similarity matrix...\n",
      "Done computing similarity matrix.\n",
      "Estimating biases using als...\n",
      "Computing the pearson_baseline similarity matrix...\n",
      "Done computing similarity matrix.\n",
      "Estimating biases using als...\n",
      "Computing the pearson_baseline similarity matrix...\n",
      "Done computing similarity matrix.\n",
      "Estimating biases using als...\n",
      "Computing the pearson_baseline similarity matrix...\n",
      "Done computing similarity matrix.\n",
      "Estimating biases using als...\n",
      "Computing the pearson_baseline similarity matrix...\n",
      "Done computing similarity matrix.\n",
      "Estimating biases using als...\n",
      "Computing the pearson_baseline similarity matrix...\n",
      "Done computing similarity matrix.\n",
      "Estimating biases using als...\n",
      "Computing the pearson_baseline similarity matrix...\n",
      "Done computing similarity matrix.\n",
      "Estimating biases using als...\n",
      "Computing the pearson_baseline similarity matrix...\n",
      "Done computing similarity matrix.\n",
      "Estimating biases using als...\n",
      "Computing the pearson_baseline similarity matrix...\n",
      "Done computing similarity matrix.\n",
      "Estimating biases using als...\n",
      "Computing the pearson_baseline similarity matrix...\n",
      "Done computing similarity matrix.\n",
      "Estimating biases using als...\n",
      "Computing the pearson_baseline similarity matrix...\n",
      "Done computing similarity matrix.\n",
      "Estimating biases using als...\n",
      "Computing the pearson_baseline similarity matrix...\n",
      "Done computing similarity matrix.\n",
      "Estimating biases using als...\n",
      "Computing the pearson_baseline similarity matrix...\n",
      "Done computing similarity matrix.\n",
      "Estimating biases using als...\n",
      "Computing the pearson_baseline similarity matrix...\n",
      "Done computing similarity matrix.\n",
      "Estimating biases using als...\n",
      "Computing the pearson_baseline similarity matrix...\n",
      "Done computing similarity matrix.\n",
      "Estimating biases using als...\n",
      "Computing the pearson_baseline similarity matrix...\n",
      "Done computing similarity matrix.\n",
      "Estimating biases using als...\n",
      "Computing the pearson_baseline similarity matrix...\n",
      "Done computing similarity matrix.\n",
      "Estimating biases using als...\n",
      "Computing the pearson_baseline similarity matrix...\n",
      "Done computing similarity matrix.\n",
      "Estimating biases using als...\n",
      "Computing the pearson_baseline similarity matrix...\n",
      "Done computing similarity matrix.\n",
      "Estimating biases using als...\n",
      "Computing the pearson_baseline similarity matrix...\n",
      "Done computing similarity matrix.\n",
      "Estimating biases using als...\n",
      "Computing the pearson_baseline similarity matrix...\n",
      "Done computing similarity matrix.\n",
      "Estimating biases using als...\n",
      "Computing the pearson_baseline similarity matrix...\n",
      "Done computing similarity matrix.\n",
      "Estimating biases using als...\n",
      "Computing the pearson_baseline similarity matrix...\n",
      "Done computing similarity matrix.\n",
      "Estimating biases using als...\n",
      "Computing the pearson_baseline similarity matrix...\n",
      "Done computing similarity matrix.\n",
      "Estimating biases using als...\n",
      "Computing the pearson_baseline similarity matrix...\n",
      "Done computing similarity matrix.\n",
      "Estimating biases using als...\n",
      "Computing the pearson_baseline similarity matrix...\n",
      "Done computing similarity matrix.\n",
      "Estimating biases using als...\n",
      "Computing the pearson_baseline similarity matrix...\n",
      "Done computing similarity matrix.\n",
      "Estimating biases using als...\n",
      "Computing the pearson_baseline similarity matrix...\n",
      "Done computing similarity matrix.\n",
      "Estimating biases using als...\n",
      "Computing the pearson_baseline similarity matrix...\n",
      "Done computing similarity matrix.\n",
      "Estimating biases using als...\n",
      "Computing the pearson_baseline similarity matrix...\n",
      "Done computing similarity matrix.\n",
      "Estimating biases using als...\n",
      "Computing the pearson_baseline similarity matrix...\n",
      "Done computing similarity matrix.\n"
     ]
    }
   ],
   "source": [
    "for _ in range(20):\n",
    "    res_dic = {}\n",
    "    suprise_model_1.fit(new_trainset)\n",
    "    suprise_model_2.fit(new_trainset)\n",
    "    prediction_surprise_1 = lambda row: suprise_model_1.predict(uid=row[\"userID\"], iid=row[\"itemID\"]).est\n",
    "    prediction_surprise_2 = lambda row: suprise_model_2.predict(uid=row[\"userID\"], iid=row[\"itemID\"]).est\n",
    "    val_predictions_surprise_1 = df_surprise_val.apply(prediction_surprise_1, axis=1)\n",
    "    test_predictions_surprise_1 = df_surprise_test.apply(prediction_surprise_1, axis=1)\n",
    "    val_predictions_surprise_2 = df_surprise_val.apply(prediction_surprise_2, axis=1)\n",
    "    test_predictions_surprise_2 = df_surprise_test.apply(prediction_surprise_2, axis=1)\n",
    "\n",
    "    X_val_both = np.concatenate((val_predictions_surprise_1.values.reshape(-1, 1), val_predictions_surprise_2.values.reshape(-1, 1)), axis=1)\n",
    "    X_test_both = np.concatenate((test_predictions_surprise_1.values.reshape(-1, 1), test_predictions_surprise_2.values.reshape(-1, 1)), axis=1)\n",
    "    clf_stacking = RandomForestRegressor()\n",
    "    clf_stacking.fit(X_val_both, y_val)\n",
    "\n",
    "    res_dic[\"stacking_rmse\"] = mean_squared_error(y_test, clf_stacking.predict(X_test_both), squared=False)\n",
    "    res_dic[\"stacking_mae\"] = mean_absolute_error(y_test, clf_stacking.predict(X_test_both))\n",
    "\n",
    "    X_val_KNN = val_predictions_surprise_1.values.reshape(-1, 1)\n",
    "    X_test_KNN = test_predictions_surprise_1.values.reshape(-1, 1)\n",
    "    clf_stacking_KNN = RandomForestRegressor()\n",
    "    clf_stacking_KNN.fit(X_val_KNN, y_val)\n",
    "\n",
    "    res_dic[\"stacking_KNN_rmse\"] = mean_squared_error(y_test, clf_stacking_KNN.predict(X_test_KNN), squared=False)\n",
    "    res_dic[\"stacking_KNN_mae\"] = mean_absolute_error(y_test, clf_stacking_KNN.predict(X_test_KNN))\n",
    "\n",
    "    X_val_SVD = val_predictions_surprise_2.values.reshape(-1, 1)\n",
    "    X_test_SVD = test_predictions_surprise_2.values.reshape(-1, 1)\n",
    "    clf_stacking_SVD = RandomForestRegressor()\n",
    "    clf_stacking_SVD.fit(X_val_SVD, y_val)\n",
    "\n",
    "    res_dic[\"stacking_SVD_rmse\"] = mean_squared_error(y_test, clf_stacking_SVD.predict(X_test_SVD), squared=False)\n",
    "    res_dic[\"stacking_SVD_mae\"] = mean_absolute_error(y_test, clf_stacking_SVD.predict(X_test_SVD))\n",
    "\n",
    "\n",
    "    suprise_model_1.fit(new_trainset_val)\n",
    "    suprise_model_2.fit(new_trainset_val)\n",
    "    test_predictions_surprise_1 = df_surprise_test.apply(prediction_surprise_1, axis=1)\n",
    "    test_predictions_surprise_2 = df_surprise_test.apply(prediction_surprise_2, axis=1)\n",
    "    res_dic[\"surprise_KNN_test_rmse\"] = mean_squared_error(y_test, test_predictions_surprise_1, squared=False)\n",
    "    res_dic[\"surprise_KNN_test_mae\"] = mean_absolute_error(y_test, test_predictions_surprise_1)\n",
    "\n",
    "    res_dic[\"surprise_SVD_test_rmse\"] = mean_squared_error(y_test, test_predictions_surprise_2, squared=False)\n",
    "    res_dic[\"surprise_SVD_test_mae\"] = mean_absolute_error(y_test, test_predictions_surprise_2)\n",
    "\n",
    "    clf = RandomForestRegressor(**{'n_estimators': 100, 'min_samples_split': 10, 'min_samples_leaf': 2, 'max_features': 'sqrt', 'max_depth': 100}) #best param #TODO automate\n",
    "    clf.fit(np.concatenate((X_train, X_val), axis=0),\n",
    "        np.concatenate((y_train, y_val), axis=0))\n",
    "    y_hat_test = clf.predict(X_test)\n",
    "    res_dic[\"clf_rmse\"] = mean_squared_error(y_test, y_hat_test, squared=False)\n",
    "    res_dic[\"clf_mae\"] = mean_absolute_error(y_test, y_hat_test)\n",
    "\n",
    "    clf.fit(X_train, y_train)\n",
    "    clf_stacking_features = RandomForestRegressor()\n",
    "    clf_stacking_features.fit(np.concatenate((clf.predict(X_val).reshape(-1, 1), X_val_KNN), axis=1),\n",
    "                              y_val)\n",
    "    y_hat_test = clf_stacking_features.predict(np.concatenate((clf.predict(X_test).reshape(-1, 1), X_test_KNN), axis=1))\n",
    "    res_dic[\"stacking_features_KNN_rmse\"] = mean_squared_error(y_test, y_hat_test, squared=False)\n",
    "    res_dic[\"stacking_features_KNN_mae\"] = mean_absolute_error(y_test, y_hat_test)\n",
    "\n",
    "    clf.fit(X_train, y_train)\n",
    "    clf_stacking_features = RandomForestRegressor()\n",
    "    clf_stacking_features.fit(np.concatenate((clf.predict(X_val).reshape(-1, 1), X_val_SVD), axis=1),\n",
    "                              y_val)\n",
    "    y_hat_test = clf_stacking_features.predict(np.concatenate((clf.predict(X_test).reshape(-1, 1), X_test_SVD), axis=1))\n",
    "    res_dic[\"stacking_features_SVD_rmse\"] = mean_squared_error(y_test, y_hat_test, squared=False)\n",
    "    res_dic[\"stacking_features_SVD_mae\"] = mean_absolute_error(y_test, y_hat_test)\n",
    "\n",
    "\n",
    "    res_df = res_df.append(res_dic, ignore_index=True)"
   ],
   "metadata": {
    "collapsed": false,
    "pycharm": {
     "name": "#%%\n"
    }
   }
  },
  {
   "cell_type": "code",
   "execution_count": 170,
   "outputs": [],
   "source": [
    "new_df = pd.DataFrame({\"mean\": res_df.mean(),\n",
    "                       \"CI-\": res_df.mean() - 2 * res_df.std() / np.sqrt(n),\n",
    "                       \"CI+\":res_df.mean() + 2*res_df.std() /np.sqrt(n)})"
   ],
   "metadata": {
    "collapsed": false,
    "pycharm": {
     "name": "#%%\n"
    }
   }
  },
  {
   "cell_type": "code",
   "execution_count": 171,
   "outputs": [
    {
     "data": {
      "text/plain": "                                mean       CI-       CI+\nclf_mae                     1.982872  1.981291  1.984454\nclf_rmse                    2.456214  2.454671  2.457757\nstacking_KNN_mae            2.380452  2.377967  2.382938\nstacking_KNN_rmse           2.981909  2.979332  2.984486\nstacking_SVD_mae            2.289492  2.277212  2.301772\nstacking_SVD_rmse           2.902206  2.888919  2.915493\nstacking_features_KNN_mae   2.112788  2.104882  2.120694\nstacking_features_KNN_rmse  2.651343  2.642695  2.659991\nstacking_features_SVD_mae   2.093398  2.083714  2.103083\nstacking_features_SVD_rmse  2.643301  2.632682  2.653921\nstacking_mae                2.089921  2.080901  2.098942\nstacking_rmse               2.638213  2.627740  2.648686\nsurprise_KNN_test_mae       1.918317  1.918317  1.918317\nsurprise_KNN_test_rmse      2.400500  2.400500  2.400500\nsurprise_SVD_test_mae       1.907399  1.903694  1.911104\nsurprise_SVD_test_rmse      2.381149  2.377333  2.384964",
      "text/html": "<div>\n<style scoped>\n    .dataframe tbody tr th:only-of-type {\n        vertical-align: middle;\n    }\n\n    .dataframe tbody tr th {\n        vertical-align: top;\n    }\n\n    .dataframe thead th {\n        text-align: right;\n    }\n</style>\n<table border=\"1\" class=\"dataframe\">\n  <thead>\n    <tr style=\"text-align: right;\">\n      <th></th>\n      <th>mean</th>\n      <th>CI-</th>\n      <th>CI+</th>\n    </tr>\n  </thead>\n  <tbody>\n    <tr>\n      <th>clf_mae</th>\n      <td>1.982872</td>\n      <td>1.981291</td>\n      <td>1.984454</td>\n    </tr>\n    <tr>\n      <th>clf_rmse</th>\n      <td>2.456214</td>\n      <td>2.454671</td>\n      <td>2.457757</td>\n    </tr>\n    <tr>\n      <th>stacking_KNN_mae</th>\n      <td>2.380452</td>\n      <td>2.377967</td>\n      <td>2.382938</td>\n    </tr>\n    <tr>\n      <th>stacking_KNN_rmse</th>\n      <td>2.981909</td>\n      <td>2.979332</td>\n      <td>2.984486</td>\n    </tr>\n    <tr>\n      <th>stacking_SVD_mae</th>\n      <td>2.289492</td>\n      <td>2.277212</td>\n      <td>2.301772</td>\n    </tr>\n    <tr>\n      <th>stacking_SVD_rmse</th>\n      <td>2.902206</td>\n      <td>2.888919</td>\n      <td>2.915493</td>\n    </tr>\n    <tr>\n      <th>stacking_features_KNN_mae</th>\n      <td>2.112788</td>\n      <td>2.104882</td>\n      <td>2.120694</td>\n    </tr>\n    <tr>\n      <th>stacking_features_KNN_rmse</th>\n      <td>2.651343</td>\n      <td>2.642695</td>\n      <td>2.659991</td>\n    </tr>\n    <tr>\n      <th>stacking_features_SVD_mae</th>\n      <td>2.093398</td>\n      <td>2.083714</td>\n      <td>2.103083</td>\n    </tr>\n    <tr>\n      <th>stacking_features_SVD_rmse</th>\n      <td>2.643301</td>\n      <td>2.632682</td>\n      <td>2.653921</td>\n    </tr>\n    <tr>\n      <th>stacking_mae</th>\n      <td>2.089921</td>\n      <td>2.080901</td>\n      <td>2.098942</td>\n    </tr>\n    <tr>\n      <th>stacking_rmse</th>\n      <td>2.638213</td>\n      <td>2.627740</td>\n      <td>2.648686</td>\n    </tr>\n    <tr>\n      <th>surprise_KNN_test_mae</th>\n      <td>1.918317</td>\n      <td>1.918317</td>\n      <td>1.918317</td>\n    </tr>\n    <tr>\n      <th>surprise_KNN_test_rmse</th>\n      <td>2.400500</td>\n      <td>2.400500</td>\n      <td>2.400500</td>\n    </tr>\n    <tr>\n      <th>surprise_SVD_test_mae</th>\n      <td>1.907399</td>\n      <td>1.903694</td>\n      <td>1.911104</td>\n    </tr>\n    <tr>\n      <th>surprise_SVD_test_rmse</th>\n      <td>2.381149</td>\n      <td>2.377333</td>\n      <td>2.384964</td>\n    </tr>\n  </tbody>\n</table>\n</div>"
     },
     "execution_count": 171,
     "metadata": {},
     "output_type": "execute_result"
    }
   ],
   "source": [
    "new_df"
   ],
   "metadata": {
    "collapsed": false,
    "pycharm": {
     "name": "#%%\n"
    }
   }
  },
  {
   "cell_type": "code",
   "execution_count": 120,
   "outputs": [
    {
     "data": {
      "text/plain": "[<matplotlib.lines.Line2D at 0x7f9df9d93880>]"
     },
     "execution_count": 120,
     "metadata": {},
     "output_type": "execute_result"
    },
    {
     "data": {
      "text/plain": "<Figure size 432x288 with 1 Axes>",
      "image/png": "[encoded data removed]"
     },
     "metadata": {
      "needs_background": "light"
     },
     "output_type": "display_data"
    }
   ],
   "source": [
    "import matplotlib.pyplot as plt\n",
    "plt.scatter(y_test + np.random.normal(0, 0.08, len(y_test)), X_test_KNN, alpha=0.3, s=3)\n",
    "#plt.scatter(y_test+ np.random.normal(0, 0.08, len(y_test)), clf_stacking_KNN.predict(X_test_KNN), alpha=0.3, s=3)\n",
    "plt.plot([0, 10], [0, 10])"
   ],
   "metadata": {
    "collapsed": false,
    "pycharm": {
     "name": "#%%\n"
    }
   }
  },
  {
   "cell_type": "code",
   "execution_count": 122,
   "outputs": [
    {
     "data": {
      "text/plain": "[<matplotlib.lines.Line2D at 0x7f9e39545670>]"
     },
     "execution_count": 122,
     "metadata": {},
     "output_type": "execute_result"
    },
    {
     "data": {
      "text/plain": "<Figure size 432x288 with 1 Axes>",
      "image/png": "[encoded data removed]"
     },
     "metadata": {
      "needs_background": "light"
     },
     "output_type": "display_data"
    }
   ],
   "source": [
    "plt.scatter(y_test + np.random.normal(0, 0.08, len(y_test)), X_test_SVD, alpha=0.3, s=3)\n",
    "#plt.scatter(y_test+ np.random.normal(0, 0.08, len(y_test)), clf_stacking_KNN.predict(X_test_KNN), alpha=0.3, s=3)\n",
    "plt.plot([0, 10], [0, 10])"
   ],
   "metadata": {
    "collapsed": false,
    "pycharm": {
     "name": "#%%\n"
    }
   }
  },
  {
   "cell_type": "code",
   "execution_count": 116,
   "outputs": [
    {
     "data": {
      "text/plain": "[<matplotlib.lines.Line2D at 0x7f9e2a211af0>]"
     },
     "execution_count": 116,
     "metadata": {},
     "output_type": "execute_result"
    },
    {
     "data": {
      "text/plain": "<Figure size 432x288 with 1 Axes>",
      "image/png": "[encoded data removed]"
     },
     "metadata": {
      "needs_background": "light"
     },
     "output_type": "display_data"
    }
   ],
   "source": [
    "plt.scatter(X_test_KNN, clf_stacking_KNN.predict(X_test_KNN))\n",
    "plt.plot([0, 10], [0, 10])"
   ],
   "metadata": {
    "collapsed": false,
    "pycharm": {
     "name": "#%%\n"
    }
   }
  },
  {
   "cell_type": "code",
   "execution_count": 117,
   "outputs": [],
   "source": [
    "clf = RandomForestRegressor(**{'n_estimators': 100, 'min_samples_split': 10, 'min_samples_leaf': 2, 'max_features': 'sqrt', 'max_depth': 100}) #best param #TODO automate\n",
    "clf.fit(np.concatenate((X_train, X_val), axis=0),\n",
    "        np.concatenate((y_train, y_val), axis=0))\n",
    "y_hat_test = clf.predict(X_test)"
   ],
   "metadata": {
    "collapsed": false,
    "pycharm": {
     "name": "#%%\n"
    }
   }
  },
  {
   "cell_type": "code",
   "execution_count": 133,
   "outputs": [
    {
     "name": "stdout",
     "output_type": "stream",
     "text": [
      "2.863800613822694\n",
      "2.3198669141951433\n"
     ]
    }
   ],
   "source": [
    "print(mean_squared_error(y_test, y_hat_test, squared=False))\n",
    "print(mean_absolute_error(y_test, y_hat_test))"
   ],
   "metadata": {
    "collapsed": false,
    "pycharm": {
     "name": "#%%\n"
    }
   }
  },
  {
   "cell_type": "code",
   "execution_count": null,
   "outputs": [],
   "source": [
    "plt.scatter(y_test, y_hat_test)\n",
    "plt.plot([0, 10], [0, 10])"
   ],
   "metadata": {
    "collapsed": false,
    "pycharm": {
     "name": "#%%\n"
    }
   }
  },
  {
   "cell_type": "code",
   "execution_count": null,
   "outputs": [],
   "source": [],
   "metadata": {
    "collapsed": false,
    "pycharm": {
     "name": "#%%\n"
    }
   }
  }
 ],
 "metadata": {
  "kernelspec": {
   "display_name": "Python 3",
   "language": "python",
   "name": "python3"
  },
  "language_info": {
   "codemirror_mode": {
    "name": "ipython",
    "version": 2
   },
   "file_extension": ".py",
   "mimetype": "text/x-python",
   "name": "python",
   "nbconvert_exporter": "python",
   "pygments_lexer": "ipython2",
   "version": "2.7.6"
  }
 },
 "nbformat": 4,
 "nbformat_minor": 0
}